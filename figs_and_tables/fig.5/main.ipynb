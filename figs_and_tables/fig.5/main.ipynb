{
 "cells": [
  {
   "cell_type": "code",
   "execution_count": 20,
   "metadata": {
    "collapsed": true,
    "ExecuteTime": {
     "end_time": "2024-07-31T09:42:48.325840Z",
     "start_time": "2024-07-31T09:42:41.626908Z"
    }
   },
   "outputs": [
    {
     "name": "stderr",
     "output_type": "stream",
     "text": [
      "WARNING:root:[Memory(location=/Users/sunwu/joblib_cache/joblib)]: Flushing completely the cache\n"
     ]
    },
    {
     "name": "stdout",
     "output_type": "stream",
     "text": [
      "{'baseline metrics file': '../data/v4000_01_baseline_vus_roc_0.001_random.bz2',\n",
      " 'target metrics file': '../data/v4020_03_fastuts_sup1_vus_pr_0.001_random.bz2'}\n",
      "{'baseline metrics file': '../data/v4000_01_baseline_vus_roc_0.001_random.bz2',\n",
      " 'target metrics file': '../data/v4020_03_fastuts_sup1_vus_roc_0.001_random.bz2'}\n",
      "{'baseline metrics file': '../data/v4000_01_baseline_vus_roc_0.001_random.bz2',\n",
      " 'target metrics file': '../data/v4020_03_fastuts_sup1_rf_0.001_random.bz2'}\n"
     ]
    }
   ],
   "source": [
    "import numpy as np\n",
    "from pysearchlib.utils.util_joblib import JLUtil\n",
    "JLUtil.clear_all_calche()\n",
    "from pysearchlib.share.ExcelOutKeys import EK\n",
    "from pysearchlib.share.uts_results_tools import RT\n",
    "from pysearchlib.utils.util_log import get_logger\n",
    "log = get_logger()\n",
    "\n",
    "# 深度学习和机器学习的合并数据\n",
    "# perf_model_over_uts = load_merge_perf_default()\n",
    "\n",
    "from pysearchlib.utils.util_joblib import cache_\n",
    "\n",
    "\n",
    "@cache_\n",
    "def load():\n",
    "    return RT.load_overall_results_from_different_opt_target()\n",
    "\n",
    "\n",
    "perf_model_over_uts = load()"
   ]
  },
  {
   "cell_type": "code",
   "execution_count": 21,
   "outputs": [
    {
     "data": {
      "text/plain": "     opt_target model_name dataset_name                        data_id   \n0        VUS_PR         ae      Daphnet        S02R01E0.test.csv@6.out  \\\n1        VUS_PR         ae      Daphnet        S03R01E0.test.csv@6.out   \n2        VUS_PR         ae      Daphnet        S03R01E1.test.csv@1.out   \n3        VUS_PR         ae      Daphnet        S03R01E1.test.csv@2.out   \n4        VUS_PR         ae      Daphnet        S03R02E0.test.csv@2.out   \n...         ...        ...          ...                            ...   \n1021         RF        vae        YAHOO  Yahoo_A2synthetic_26_data.out   \n1022         RF        vae        YAHOO  Yahoo_A2synthetic_64_data.out   \n1023         RF        vae        YAHOO  Yahoo_A2synthetic_77_data.out   \n1024         RF        vae        YAHOO  Yahoo_A2synthetic_89_data.out   \n1025         RF        vae        YAHOO  Yahoo_A2synthetic_94_data.out   \n\n      ori. perf. mean  ori. perf. std  fast. perf. mean  fast. perf. std   \n0           71.810000        2.520000         72.360000         3.760000  \\\n1           50.100000       11.510000         50.260000        12.700000   \n2           54.260000       24.580000         53.320000        24.040000   \n3           59.080000       25.600000         58.440000        27.130000   \n4           76.380000       28.710000         76.350000        28.620000   \n...               ...             ...               ...              ...   \n1021        20.640000       29.190000         34.500000         9.590000   \n1022        50.030000        4.120000         57.290000         6.140000   \n1023        37.330000        1.560000         71.700000        37.400000   \n1024        36.410000        1.220000         40.460000         3.140000   \n1025        35.300000        0.390000         35.030000         0.000000   \n\n      ori. train time mean  ori. train time std  fast. train time mean   \n0               289.470000             0.770000              68.050000  \\\n1               526.930000             6.300000              62.860000   \n2               298.190000             1.060000              60.540000   \n3               333.390000             5.380000              61.760000   \n4               203.100000             6.480000              94.400000   \n...                    ...                  ...                    ...   \n1021             41.020000             0.130000             121.550000   \n1022             41.550000             0.100000             218.600000   \n1023             42.680000             0.330000             120.650000   \n1024             44.000000             1.940000             125.400000   \n1025             42.420000             0.020000             207.750000   \n\n      fast. train time std  fast. data proc. time mean   \n0                 0.700000                    0.050000  \\\n1                 0.480000                    0.090000   \n2                 0.530000                    0.060000   \n3                 0.500000                    0.060000   \n4                 0.290000                    0.050000   \n...                    ...                         ...   \n1021              0.870000                    0.020000   \n1022              0.710000                    0.030000   \n1023              0.630000                    0.020000   \n1024              0.740000                    0.010000   \n1025              0.500000                    0.030000   \n\n      fast. data proc. time std  fast. best sr  fast. best train len  \n0                      0.000000       1.250000            256.000000  \n1                      0.000000       0.580000            256.000000  \n2                      0.000000       2.680000            768.000000  \n3                      0.000000       0.890000            256.000000  \n4                      0.000000       3.860000            512.000000  \n...                         ...            ...                   ...  \n1021                   0.000000      47.150000            512.000000  \n1022                   0.000000      94.290000           1024.000000  \n1023                   0.000000      23.570000            256.000000  \n1024                   0.000000      23.570000            256.000000  \n1025                   0.000000      94.290000           1024.000000  \n\n[3078 rows x 16 columns]",
      "text/html": "<div>\n<style scoped>\n    .dataframe tbody tr th:only-of-type {\n        vertical-align: middle;\n    }\n\n    .dataframe tbody tr th {\n        vertical-align: top;\n    }\n\n    .dataframe thead th {\n        text-align: right;\n    }\n</style>\n<table border=\"1\" class=\"dataframe\">\n  <thead>\n    <tr style=\"text-align: right;\">\n      <th></th>\n      <th>opt_target</th>\n      <th>model_name</th>\n      <th>dataset_name</th>\n      <th>data_id</th>\n      <th>ori. perf. mean</th>\n      <th>ori. perf. std</th>\n      <th>fast. perf. mean</th>\n      <th>fast. perf. std</th>\n      <th>ori. train time mean</th>\n      <th>ori. train time std</th>\n      <th>fast. train time mean</th>\n      <th>fast. train time std</th>\n      <th>fast. data proc. time mean</th>\n      <th>fast. data proc. time std</th>\n      <th>fast. best sr</th>\n      <th>fast. best train len</th>\n    </tr>\n  </thead>\n  <tbody>\n    <tr>\n      <th>0</th>\n      <td>VUS_PR</td>\n      <td>ae</td>\n      <td>Daphnet</td>\n      <td>S02R01E0.test.csv@6.out</td>\n      <td>71.810000</td>\n      <td>2.520000</td>\n      <td>72.360000</td>\n      <td>3.760000</td>\n      <td>289.470000</td>\n      <td>0.770000</td>\n      <td>68.050000</td>\n      <td>0.700000</td>\n      <td>0.050000</td>\n      <td>0.000000</td>\n      <td>1.250000</td>\n      <td>256.000000</td>\n    </tr>\n    <tr>\n      <th>1</th>\n      <td>VUS_PR</td>\n      <td>ae</td>\n      <td>Daphnet</td>\n      <td>S03R01E0.test.csv@6.out</td>\n      <td>50.100000</td>\n      <td>11.510000</td>\n      <td>50.260000</td>\n      <td>12.700000</td>\n      <td>526.930000</td>\n      <td>6.300000</td>\n      <td>62.860000</td>\n      <td>0.480000</td>\n      <td>0.090000</td>\n      <td>0.000000</td>\n      <td>0.580000</td>\n      <td>256.000000</td>\n    </tr>\n    <tr>\n      <th>2</th>\n      <td>VUS_PR</td>\n      <td>ae</td>\n      <td>Daphnet</td>\n      <td>S03R01E1.test.csv@1.out</td>\n      <td>54.260000</td>\n      <td>24.580000</td>\n      <td>53.320000</td>\n      <td>24.040000</td>\n      <td>298.190000</td>\n      <td>1.060000</td>\n      <td>60.540000</td>\n      <td>0.530000</td>\n      <td>0.060000</td>\n      <td>0.000000</td>\n      <td>2.680000</td>\n      <td>768.000000</td>\n    </tr>\n    <tr>\n      <th>3</th>\n      <td>VUS_PR</td>\n      <td>ae</td>\n      <td>Daphnet</td>\n      <td>S03R01E1.test.csv@2.out</td>\n      <td>59.080000</td>\n      <td>25.600000</td>\n      <td>58.440000</td>\n      <td>27.130000</td>\n      <td>333.390000</td>\n      <td>5.380000</td>\n      <td>61.760000</td>\n      <td>0.500000</td>\n      <td>0.060000</td>\n      <td>0.000000</td>\n      <td>0.890000</td>\n      <td>256.000000</td>\n    </tr>\n    <tr>\n      <th>4</th>\n      <td>VUS_PR</td>\n      <td>ae</td>\n      <td>Daphnet</td>\n      <td>S03R02E0.test.csv@2.out</td>\n      <td>76.380000</td>\n      <td>28.710000</td>\n      <td>76.350000</td>\n      <td>28.620000</td>\n      <td>203.100000</td>\n      <td>6.480000</td>\n      <td>94.400000</td>\n      <td>0.290000</td>\n      <td>0.050000</td>\n      <td>0.000000</td>\n      <td>3.860000</td>\n      <td>512.000000</td>\n    </tr>\n    <tr>\n      <th>...</th>\n      <td>...</td>\n      <td>...</td>\n      <td>...</td>\n      <td>...</td>\n      <td>...</td>\n      <td>...</td>\n      <td>...</td>\n      <td>...</td>\n      <td>...</td>\n      <td>...</td>\n      <td>...</td>\n      <td>...</td>\n      <td>...</td>\n      <td>...</td>\n      <td>...</td>\n      <td>...</td>\n    </tr>\n    <tr>\n      <th>1021</th>\n      <td>RF</td>\n      <td>vae</td>\n      <td>YAHOO</td>\n      <td>Yahoo_A2synthetic_26_data.out</td>\n      <td>20.640000</td>\n      <td>29.190000</td>\n      <td>34.500000</td>\n      <td>9.590000</td>\n      <td>41.020000</td>\n      <td>0.130000</td>\n      <td>121.550000</td>\n      <td>0.870000</td>\n      <td>0.020000</td>\n      <td>0.000000</td>\n      <td>47.150000</td>\n      <td>512.000000</td>\n    </tr>\n    <tr>\n      <th>1022</th>\n      <td>RF</td>\n      <td>vae</td>\n      <td>YAHOO</td>\n      <td>Yahoo_A2synthetic_64_data.out</td>\n      <td>50.030000</td>\n      <td>4.120000</td>\n      <td>57.290000</td>\n      <td>6.140000</td>\n      <td>41.550000</td>\n      <td>0.100000</td>\n      <td>218.600000</td>\n      <td>0.710000</td>\n      <td>0.030000</td>\n      <td>0.000000</td>\n      <td>94.290000</td>\n      <td>1024.000000</td>\n    </tr>\n    <tr>\n      <th>1023</th>\n      <td>RF</td>\n      <td>vae</td>\n      <td>YAHOO</td>\n      <td>Yahoo_A2synthetic_77_data.out</td>\n      <td>37.330000</td>\n      <td>1.560000</td>\n      <td>71.700000</td>\n      <td>37.400000</td>\n      <td>42.680000</td>\n      <td>0.330000</td>\n      <td>120.650000</td>\n      <td>0.630000</td>\n      <td>0.020000</td>\n      <td>0.000000</td>\n      <td>23.570000</td>\n      <td>256.000000</td>\n    </tr>\n    <tr>\n      <th>1024</th>\n      <td>RF</td>\n      <td>vae</td>\n      <td>YAHOO</td>\n      <td>Yahoo_A2synthetic_89_data.out</td>\n      <td>36.410000</td>\n      <td>1.220000</td>\n      <td>40.460000</td>\n      <td>3.140000</td>\n      <td>44.000000</td>\n      <td>1.940000</td>\n      <td>125.400000</td>\n      <td>0.740000</td>\n      <td>0.010000</td>\n      <td>0.000000</td>\n      <td>23.570000</td>\n      <td>256.000000</td>\n    </tr>\n    <tr>\n      <th>1025</th>\n      <td>RF</td>\n      <td>vae</td>\n      <td>YAHOO</td>\n      <td>Yahoo_A2synthetic_94_data.out</td>\n      <td>35.300000</td>\n      <td>0.390000</td>\n      <td>35.030000</td>\n      <td>0.000000</td>\n      <td>42.420000</td>\n      <td>0.020000</td>\n      <td>207.750000</td>\n      <td>0.500000</td>\n      <td>0.030000</td>\n      <td>0.000000</td>\n      <td>94.290000</td>\n      <td>1024.000000</td>\n    </tr>\n  </tbody>\n</table>\n<p>3078 rows × 16 columns</p>\n</div>"
     },
     "execution_count": 21,
     "metadata": {},
     "output_type": "execute_result"
    }
   ],
   "source": [
    "perf_model_over_uts"
   ],
   "metadata": {
    "collapsed": false,
    "ExecuteTime": {
     "end_time": "2024-07-31T09:42:48.339534Z",
     "start_time": "2024-07-31T09:42:48.327488Z"
    }
   }
  },
  {
   "cell_type": "code",
   "execution_count": 22,
   "outputs": [
    {
     "name": "stdout",
     "output_type": "stream",
     "text": [
      "     opt_target model_name dataset_name                        data_id   \n",
      "0        VUS_PR         ae      Daphnet        S02R01E0.test.csv@6.out  \\\n",
      "1        VUS_PR         ae      Daphnet        S03R01E0.test.csv@6.out   \n",
      "2        VUS_PR         ae      Daphnet        S03R01E1.test.csv@1.out   \n",
      "3        VUS_PR         ae      Daphnet        S03R01E1.test.csv@2.out   \n",
      "4        VUS_PR         ae      Daphnet        S03R02E0.test.csv@2.out   \n",
      "...         ...        ...          ...                            ...   \n",
      "1021         RF        vae        YAHOO  Yahoo_A2synthetic_26_data.out   \n",
      "1022         RF        vae        YAHOO  Yahoo_A2synthetic_64_data.out   \n",
      "1023         RF        vae        YAHOO  Yahoo_A2synthetic_77_data.out   \n",
      "1024         RF        vae        YAHOO  Yahoo_A2synthetic_89_data.out   \n",
      "1025         RF        vae        YAHOO  Yahoo_A2synthetic_94_data.out   \n",
      "\n",
      "      ori. perf. mean  ori. perf. std  fast. perf. mean  fast. perf. std   \n",
      "0           71.810000        2.520000         72.360000         3.760000  \\\n",
      "1           50.100000       11.510000         50.260000        12.700000   \n",
      "2           54.260000       24.580000         53.320000        24.040000   \n",
      "3           59.080000       25.600000         58.440000        27.130000   \n",
      "4           76.380000       28.710000         76.350000        28.620000   \n",
      "...               ...             ...               ...              ...   \n",
      "1021        20.640000       29.190000         34.500000         9.590000   \n",
      "1022        50.030000        4.120000         57.290000         6.140000   \n",
      "1023        37.330000        1.560000         71.700000        37.400000   \n",
      "1024        36.410000        1.220000         40.460000         3.140000   \n",
      "1025        35.300000        0.390000         35.030000         0.000000   \n",
      "\n",
      "      ori. train time mean  ori. train time std  fast. train time mean   \n",
      "0               289.470000             0.770000              68.050000  \\\n",
      "1               526.930000             6.300000              62.860000   \n",
      "2               298.190000             1.060000              60.540000   \n",
      "3               333.390000             5.380000              61.760000   \n",
      "4               203.100000             6.480000              94.400000   \n",
      "...                    ...                  ...                    ...   \n",
      "1021             41.020000             0.130000             121.550000   \n",
      "1022             41.550000             0.100000             218.600000   \n",
      "1023             42.680000             0.330000             120.650000   \n",
      "1024             44.000000             1.940000             125.400000   \n",
      "1025             42.420000             0.020000             207.750000   \n",
      "\n",
      "      fast. train time std  fast. data proc. time mean   \n",
      "0                 0.700000                    0.050000  \\\n",
      "1                 0.480000                    0.090000   \n",
      "2                 0.530000                    0.060000   \n",
      "3                 0.500000                    0.060000   \n",
      "4                 0.290000                    0.050000   \n",
      "...                    ...                         ...   \n",
      "1021              0.870000                    0.020000   \n",
      "1022              0.710000                    0.030000   \n",
      "1023              0.630000                    0.020000   \n",
      "1024              0.740000                    0.010000   \n",
      "1025              0.500000                    0.030000   \n",
      "\n",
      "      fast. data proc. time std  fast. best sr  fast. best train len  \n",
      "0                      0.000000       1.250000            256.000000  \n",
      "1                      0.000000       0.580000            256.000000  \n",
      "2                      0.000000       2.680000            768.000000  \n",
      "3                      0.000000       0.890000            256.000000  \n",
      "4                      0.000000       3.860000            512.000000  \n",
      "...                         ...            ...                   ...  \n",
      "1021                   0.000000      47.150000            512.000000  \n",
      "1022                   0.000000      94.290000           1024.000000  \n",
      "1023                   0.000000      23.570000            256.000000  \n",
      "1024                   0.000000      23.570000            256.000000  \n",
      "1025                   0.000000      94.290000           1024.000000  \n",
      "\n",
      "[3078 rows x 16 columns]\n"
     ]
    }
   ],
   "source": [
    "print(perf_model_over_uts)\n",
    "# sns.scatterplot(perf_model_over_uts,x=)"
   ],
   "metadata": {
    "collapsed": false,
    "ExecuteTime": {
     "end_time": "2024-07-31T09:42:48.339815Z",
     "start_time": "2024-07-31T09:42:48.337176Z"
    }
   }
  },
  {
   "cell_type": "code",
   "execution_count": 23,
   "outputs": [
    {
     "data": {
      "text/plain": "    opt_target  fast. best sr  model_name  dataset_name  data_id   \n0           RF       0.140000          73            73       73  \\\n1           RF       0.210000           8             8        8   \n2           RF       0.220000           2             2        2   \n3           RF       0.250000           7             7        7   \n4           RF       0.280000          51            51       51   \n..         ...            ...         ...           ...      ...   \n571    VUS_ROC      93.860000           3             3        3   \n572    VUS_ROC      94.290000           4             4        4   \n573    VUS_ROC      98.920000           2             2        2   \n574    VUS_ROC      98.950000           1             1        1   \n575    VUS_ROC     100.000000          10            10       10   \n\n     ori. perf. mean  ori. perf. std  fast. perf. mean  fast. perf. std   \n0                 73              73                73               73  \\\n1                  8               8                 8                8   \n2                  2               2                 2                2   \n3                  7               7                 7                7   \n4                 51              51                51               51   \n..               ...             ...               ...              ...   \n571                3               3                 3                3   \n572                4               4                 4                4   \n573                2               2                 2                2   \n574                1               1                 1                1   \n575               10              10                10               10   \n\n     ori. train time mean  ori. train time std  fast. train time mean   \n0                      73                   73                     73  \\\n1                       8                    8                      8   \n2                       2                    2                      2   \n3                       7                    7                      7   \n4                      51                   51                     51   \n..                    ...                  ...                    ...   \n571                     3                    3                      3   \n572                     4                    4                      4   \n573                     2                    2                      2   \n574                     1                    1                      1   \n575                    10                   10                     10   \n\n     fast. train time std  fast. data proc. time mean   \n0                      73                          73  \\\n1                       8                           8   \n2                       2                           2   \n3                       7                           7   \n4                      51                          51   \n..                    ...                         ...   \n571                     3                           3   \n572                     4                           4   \n573                     2                           2   \n574                     1                           1   \n575                    10                          10   \n\n     fast. data proc. time std  fast. best train len  \n0                           73                    73  \n1                            8                     8  \n2                            2                     2  \n3                            7                     7  \n4                           51                    51  \n..                         ...                   ...  \n571                          3                     3  \n572                          4                     4  \n573                          2                     2  \n574                          1                     1  \n575                         10                    10  \n\n[576 rows x 16 columns]",
      "text/html": "<div>\n<style scoped>\n    .dataframe tbody tr th:only-of-type {\n        vertical-align: middle;\n    }\n\n    .dataframe tbody tr th {\n        vertical-align: top;\n    }\n\n    .dataframe thead th {\n        text-align: right;\n    }\n</style>\n<table border=\"1\" class=\"dataframe\">\n  <thead>\n    <tr style=\"text-align: right;\">\n      <th></th>\n      <th>opt_target</th>\n      <th>fast. best sr</th>\n      <th>model_name</th>\n      <th>dataset_name</th>\n      <th>data_id</th>\n      <th>ori. perf. mean</th>\n      <th>ori. perf. std</th>\n      <th>fast. perf. mean</th>\n      <th>fast. perf. std</th>\n      <th>ori. train time mean</th>\n      <th>ori. train time std</th>\n      <th>fast. train time mean</th>\n      <th>fast. train time std</th>\n      <th>fast. data proc. time mean</th>\n      <th>fast. data proc. time std</th>\n      <th>fast. best train len</th>\n    </tr>\n  </thead>\n  <tbody>\n    <tr>\n      <th>0</th>\n      <td>RF</td>\n      <td>0.140000</td>\n      <td>73</td>\n      <td>73</td>\n      <td>73</td>\n      <td>73</td>\n      <td>73</td>\n      <td>73</td>\n      <td>73</td>\n      <td>73</td>\n      <td>73</td>\n      <td>73</td>\n      <td>73</td>\n      <td>73</td>\n      <td>73</td>\n      <td>73</td>\n    </tr>\n    <tr>\n      <th>1</th>\n      <td>RF</td>\n      <td>0.210000</td>\n      <td>8</td>\n      <td>8</td>\n      <td>8</td>\n      <td>8</td>\n      <td>8</td>\n      <td>8</td>\n      <td>8</td>\n      <td>8</td>\n      <td>8</td>\n      <td>8</td>\n      <td>8</td>\n      <td>8</td>\n      <td>8</td>\n      <td>8</td>\n    </tr>\n    <tr>\n      <th>2</th>\n      <td>RF</td>\n      <td>0.220000</td>\n      <td>2</td>\n      <td>2</td>\n      <td>2</td>\n      <td>2</td>\n      <td>2</td>\n      <td>2</td>\n      <td>2</td>\n      <td>2</td>\n      <td>2</td>\n      <td>2</td>\n      <td>2</td>\n      <td>2</td>\n      <td>2</td>\n      <td>2</td>\n    </tr>\n    <tr>\n      <th>3</th>\n      <td>RF</td>\n      <td>0.250000</td>\n      <td>7</td>\n      <td>7</td>\n      <td>7</td>\n      <td>7</td>\n      <td>7</td>\n      <td>7</td>\n      <td>7</td>\n      <td>7</td>\n      <td>7</td>\n      <td>7</td>\n      <td>7</td>\n      <td>7</td>\n      <td>7</td>\n      <td>7</td>\n    </tr>\n    <tr>\n      <th>4</th>\n      <td>RF</td>\n      <td>0.280000</td>\n      <td>51</td>\n      <td>51</td>\n      <td>51</td>\n      <td>51</td>\n      <td>51</td>\n      <td>51</td>\n      <td>51</td>\n      <td>51</td>\n      <td>51</td>\n      <td>51</td>\n      <td>51</td>\n      <td>51</td>\n      <td>51</td>\n      <td>51</td>\n    </tr>\n    <tr>\n      <th>...</th>\n      <td>...</td>\n      <td>...</td>\n      <td>...</td>\n      <td>...</td>\n      <td>...</td>\n      <td>...</td>\n      <td>...</td>\n      <td>...</td>\n      <td>...</td>\n      <td>...</td>\n      <td>...</td>\n      <td>...</td>\n      <td>...</td>\n      <td>...</td>\n      <td>...</td>\n      <td>...</td>\n    </tr>\n    <tr>\n      <th>571</th>\n      <td>VUS_ROC</td>\n      <td>93.860000</td>\n      <td>3</td>\n      <td>3</td>\n      <td>3</td>\n      <td>3</td>\n      <td>3</td>\n      <td>3</td>\n      <td>3</td>\n      <td>3</td>\n      <td>3</td>\n      <td>3</td>\n      <td>3</td>\n      <td>3</td>\n      <td>3</td>\n      <td>3</td>\n    </tr>\n    <tr>\n      <th>572</th>\n      <td>VUS_ROC</td>\n      <td>94.290000</td>\n      <td>4</td>\n      <td>4</td>\n      <td>4</td>\n      <td>4</td>\n      <td>4</td>\n      <td>4</td>\n      <td>4</td>\n      <td>4</td>\n      <td>4</td>\n      <td>4</td>\n      <td>4</td>\n      <td>4</td>\n      <td>4</td>\n      <td>4</td>\n    </tr>\n    <tr>\n      <th>573</th>\n      <td>VUS_ROC</td>\n      <td>98.920000</td>\n      <td>2</td>\n      <td>2</td>\n      <td>2</td>\n      <td>2</td>\n      <td>2</td>\n      <td>2</td>\n      <td>2</td>\n      <td>2</td>\n      <td>2</td>\n      <td>2</td>\n      <td>2</td>\n      <td>2</td>\n      <td>2</td>\n      <td>2</td>\n    </tr>\n    <tr>\n      <th>574</th>\n      <td>VUS_ROC</td>\n      <td>98.950000</td>\n      <td>1</td>\n      <td>1</td>\n      <td>1</td>\n      <td>1</td>\n      <td>1</td>\n      <td>1</td>\n      <td>1</td>\n      <td>1</td>\n      <td>1</td>\n      <td>1</td>\n      <td>1</td>\n      <td>1</td>\n      <td>1</td>\n      <td>1</td>\n    </tr>\n    <tr>\n      <th>575</th>\n      <td>VUS_ROC</td>\n      <td>100.000000</td>\n      <td>10</td>\n      <td>10</td>\n      <td>10</td>\n      <td>10</td>\n      <td>10</td>\n      <td>10</td>\n      <td>10</td>\n      <td>10</td>\n      <td>10</td>\n      <td>10</td>\n      <td>10</td>\n      <td>10</td>\n      <td>10</td>\n      <td>10</td>\n    </tr>\n  </tbody>\n</table>\n<p>576 rows × 16 columns</p>\n</div>"
     },
     "execution_count": 23,
     "metadata": {},
     "output_type": "execute_result"
    }
   ],
   "source": [
    "plot_data = perf_model_over_uts.groupby(by=[EK.OPT_TARGET, EK.FAST_BEST_SR], as_index=False).count()\n",
    "plot_data"
   ],
   "metadata": {
    "collapsed": false,
    "ExecuteTime": {
     "end_time": "2024-07-31T09:42:48.371834Z",
     "start_time": "2024-07-31T09:42:48.341067Z"
    }
   }
  },
  {
   "cell_type": "markdown",
   "source": [
    "修订下面的图，去除网格线，添加x和y轴的刻度"
   ],
   "metadata": {
    "collapsed": false
   }
  },
  {
   "cell_type": "code",
   "execution_count": 24,
   "outputs": [
    {
     "data": {
      "text/plain": "<Figure size 900x120 with 3 Axes>",
      "image/png": "[encoded data removed]"
     },
     "metadata": {},
     "output_type": "display_data"
    }
   ],
   "source": [
    "from pysearchlib.share.ExpAnaConf import ANAConf\n",
    "# 下面的图像将marker设置为\"+\"，颜色设置为#7e00c5\n",
    "from matplotlib import pyplot as plt\n",
    "import seaborn as sns\n",
    "import matplotlib as mpl\n",
    "\n",
    "mpl.rcParams['axes.linewidth'] = 0.5\n",
    "sns.set_theme(style=\"ticks\")\n",
    "fig, axex = plt.subplots(1, 3, figsize=(9, 1.2))\n",
    "for ax, _opt_target, _index in zip(axex, [\"VUS_ROC\", \"VUS_PR\", \"RF\"], [1, 2, 3]):\n",
    "    # 调整spine（即图表边框线）的宽度\n",
    "    for spine in ax.spines.values():\n",
    "        spine.set_linewidth(0.5)\n",
    "\n",
    "    # 调整ticks 的宽度\n",
    "    ax.tick_params(axis='both', which='major', width=0.5)\n",
    "\n",
    "    ax.set_xlabel(\"$n_{sw}^*$ (%)\")\n",
    "    # ax.set_ylabel(\"#count\")\n",
    "    ax.set_xlim(-1, 101)\n",
    "    _title=f\"$\\mathbf{{({ANAConf.convert_number_to_alpha(_index)})}}$ {_opt_target.replace('_', ' ')}\"\n",
    "    # ax.text(0.5, -0.7, f\"$\\mathbf{{({ANAConf.convert_number_to_alpha(_index)})}}$ {_opt_target.replace('_', ' ')}\",\n",
    "    #         transform=ax.transAxes, ha='center', va='top', fontsize=11)\n",
    "    # ax1.set_title(\"Sine Wave\", y=-0.2)\n",
    "    ax.set_title(_title,y=-0.9)\n",
    "    sns.scatterplot(plot_data[plot_data[EK.OPT_TARGET] == _opt_target], x=EK.FAST_BEST_SR, y=EK.MODEL_NAME,\n",
    "                    hue=EK.OPT_TARGET, style=EK.OPT_TARGET, ax=ax, markers=\"+\", palette={_opt_target: \"#7e00c5\"})\n",
    "    # 添加x轴和y轴的刻度\n",
    "    ax.legend().set_visible(False)\n",
    "    _x_labels=np.arange(0, 101, 20)\n",
    "    ax.set_xticks(_x_labels,labels=_x_labels)\n",
    "    if _index == 1:\n",
    "        ax.set_ylabel(\"Frequency\")\n",
    "    else:\n",
    "        ax.set_ylabel(None)\n",
    "\n",
    "    if _index == 1:\n",
    "        ax.set_ylim(-2, 120)\n",
    "        _y_labels=np.arange(0, 121, 30)\n",
    "        ax.set_yticks(_y_labels,labels=_y_labels)\n",
    "    if _index == 2:\n",
    "        _y_labels=np.arange(0, 61, 15)\n",
    "        ax.set_yticks(_y_labels,labels=_y_labels)\n",
    "        # ax.set_ylim(-2, 60)\n",
    "    if _index == 3:\n",
    "        _y_labels=np.arange(0, 81, 20)\n",
    "        ax.set_yticks(_y_labels,labels=_y_labels)\n",
    "    ax.dist = 100\n",
    "# plt.tight_layout()\n",
    "# plt.subplots_adjust(bottom=0.2)\n",
    "plt.savefig(\"Fig.5.pdf\", bbox_inches='tight',pad_inches=0.03)"
   ],
   "metadata": {
    "collapsed": false,
    "ExecuteTime": {
     "end_time": "2024-07-31T09:42:48.643794Z",
     "start_time": "2024-07-31T09:42:48.349882Z"
    }
   }
  },
  {
   "cell_type": "code",
   "execution_count": 24,
   "outputs": [],
   "source": [],
   "metadata": {
    "collapsed": false,
    "ExecuteTime": {
     "end_time": "2024-07-31T09:42:48.646113Z",
     "start_time": "2024-07-31T09:42:48.643298Z"
    }
   }
  },
  {
   "cell_type": "code",
   "execution_count": 24,
   "outputs": [],
   "source": [],
   "metadata": {
    "collapsed": false,
    "ExecuteTime": {
     "end_time": "2024-07-31T09:42:48.648350Z",
     "start_time": "2024-07-31T09:42:48.646293Z"
    }
   }
  }
 ],
 "metadata": {
  "kernelspec": {
   "display_name": "Python 3",
   "language": "python",
   "name": "python3"
  },
  "language_info": {
   "codemirror_mode": {
    "name": "ipython",
    "version": 2
   },
   "file_extension": ".py",
   "mimetype": "text/x-python",
   "name": "python",
   "nbconvert_exporter": "python",
   "pygments_lexer": "ipython2",
   "version": "2.7.6"
  }
 },
 "nbformat": 4,
 "nbformat_minor": 0
}

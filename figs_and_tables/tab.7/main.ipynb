{
 "cells": [
  {
   "cell_type": "code",
   "execution_count": 13,
   "metadata": {
    "collapsed": true
   },
   "outputs": [
    {
     "name": "stdout",
     "output_type": "stream",
     "text": [
      "{'baseline metrics file': '../data/v4000_01_baseline_vus_roc_0.001_random.bz2',\r\n",
      " 'target metrics file': '../data/v4020_03_fastuts_sup1_vus_roc_0.001_random.bz2'}\r\n",
      "{'baseline metrics file': '../data/v4000_01_baseline_vus_roc_0.001_random.bz2',\r\n",
      " 'target metrics file': '../data/v4020_03_fastuts_sup1_rf_0.001_random.bz2'}\r\n",
      "File is saved to  /Users/sunwu/Nextcloud/B1-Papers/01-less-is-more/submits/source_code_of_fastuts_ad/figs_and_tables/tab.7/data-ratio-on-model-and-datasets-RF.tex\r\n",
      "File is saved to  /Users/sunwu/Nextcloud/B1-Papers/01-less-is-more/submits/source_code_of_fastuts_ad/figs_and_tables/tab.7/data-ratio-on-model-and-datasets-VUS_PR.tex\r\n",
      "File is saved to  /Users/sunwu/Nextcloud/B1-Papers/01-less-is-more/submits/source_code_of_fastuts_ad/figs_and_tables/tab.7/data-ratio-on-model-and-datasets-VUS_ROC.tex\r\n",
      "File is saved to  /Users/sunwu/Nextcloud/B1-Papers/01-less-is-more/submits/source_code_of_fastuts_ad/figs_and_tables/tab.7/data-ratio-on-model-and-datasets-RF.tex\r\n",
      "File is saved to  /Users/sunwu/Nextcloud/B1-Papers/01-less-is-more/submits/source_code_of_fastuts_ad/figs_and_tables/tab.7/data-ratio-on-model-and-datasets-VUS_PR.tex\r\n",
      "File is saved to  /Users/sunwu/Nextcloud/B1-Papers/01-less-is-more/submits/source_code_of_fastuts_ad/figs_and_tables/tab.7/data-ratio-on-model-and-datasets-VUS_ROC.tex\r\n"
     ]
    }
   ],
   "source": [
    "!python parepare.py"
   ]
  },
  {
   "cell_type": "code",
   "execution_count": 14,
   "outputs": [
    {
     "data": {
      "text/plain": "      index opt_target model_name dataset_name                        data_id   \n0         0     VUS_PR         ae      Daphnet        S02R01E0.test.csv@6.out  \\\n1         1     VUS_PR         ae      Daphnet        S03R01E0.test.csv@6.out   \n2         2     VUS_PR         ae      Daphnet        S03R01E1.test.csv@1.out   \n3         3     VUS_PR         ae      Daphnet        S03R01E1.test.csv@2.out   \n4         4     VUS_PR         ae      Daphnet        S03R02E0.test.csv@2.out   \n...     ...        ...        ...          ...                            ...   \n3073   1021         RF        vae        YAHOO  Yahoo_A2synthetic_26_data.out   \n3074   1022         RF        vae        YAHOO  Yahoo_A2synthetic_64_data.out   \n3075   1023         RF        vae        YAHOO  Yahoo_A2synthetic_77_data.out   \n3076   1024         RF        vae        YAHOO  Yahoo_A2synthetic_89_data.out   \n3077   1025         RF        vae        YAHOO  Yahoo_A2synthetic_94_data.out   \n\n      ori. perf. mean  ori. perf. std  fast. perf. mean  fast. perf. std   \n0               71.81            2.52             72.36             3.76  \\\n1               50.10           11.51             50.26            12.70   \n2               54.26           24.58             53.32            24.04   \n3               59.08           25.60             58.44            27.13   \n4               76.38           28.71             76.35            28.62   \n...               ...             ...               ...              ...   \n3073            20.64           29.19             34.50             9.59   \n3074            50.03            4.12             57.29             6.14   \n3075            37.33            1.56             71.70            37.40   \n3076            36.41            1.22             40.46             3.14   \n3077            35.30            0.39             35.03             0.00   \n\n      ori. train time mean  ori. train time std  fast. train time mean   \n0                   289.47                 0.77                  68.05  \\\n1                   526.93                 6.30                  62.86   \n2                   298.19                 1.06                  60.54   \n3                   333.39                 5.38                  61.76   \n4                   203.10                 6.48                  94.40   \n...                    ...                  ...                    ...   \n3073                 41.02                 0.13                 121.55   \n3074                 41.55                 0.10                 218.60   \n3075                 42.68                 0.33                 120.65   \n3076                 44.00                 1.94                 125.40   \n3077                 42.42                 0.02                 207.75   \n\n      fast. train time std  fast. data proc. time mean   \n0                     0.70                        0.05  \\\n1                     0.48                        0.09   \n2                     0.53                        0.06   \n3                     0.50                        0.06   \n4                     0.29                        0.05   \n...                    ...                         ...   \n3073                  0.87                        0.02   \n3074                  0.71                        0.03   \n3075                  0.63                        0.02   \n3076                  0.74                        0.01   \n3077                  0.50                        0.03   \n\n      fast. data proc. time std  fast. best sr  fast. best train len  \n0                           0.0           1.25                 256.0  \n1                           0.0           0.58                 256.0  \n2                           0.0           2.68                 768.0  \n3                           0.0           0.89                 256.0  \n4                           0.0           3.86                 512.0  \n...                         ...            ...                   ...  \n3073                        0.0          47.15                 512.0  \n3074                        0.0          94.29                1024.0  \n3075                        0.0          23.57                 256.0  \n3076                        0.0          23.57                 256.0  \n3077                        0.0          94.29                1024.0  \n\n[3078 rows x 17 columns]",
      "text/html": "<div>\n<style scoped>\n    .dataframe tbody tr th:only-of-type {\n        vertical-align: middle;\n    }\n\n    .dataframe tbody tr th {\n        vertical-align: top;\n    }\n\n    .dataframe thead th {\n        text-align: right;\n    }\n</style>\n<table border=\"1\" class=\"dataframe\">\n  <thead>\n    <tr style=\"text-align: right;\">\n      <th></th>\n      <th>index</th>\n      <th>opt_target</th>\n      <th>model_name</th>\n      <th>dataset_name</th>\n      <th>data_id</th>\n      <th>ori. perf. mean</th>\n      <th>ori. perf. std</th>\n      <th>fast. perf. mean</th>\n      <th>fast. perf. std</th>\n      <th>ori. train time mean</th>\n      <th>ori. train time std</th>\n      <th>fast. train time mean</th>\n      <th>fast. train time std</th>\n      <th>fast. data proc. time mean</th>\n      <th>fast. data proc. time std</th>\n      <th>fast. best sr</th>\n      <th>fast. best train len</th>\n    </tr>\n  </thead>\n  <tbody>\n    <tr>\n      <th>0</th>\n      <td>0</td>\n      <td>VUS_PR</td>\n      <td>ae</td>\n      <td>Daphnet</td>\n      <td>S02R01E0.test.csv@6.out</td>\n      <td>71.81</td>\n      <td>2.52</td>\n      <td>72.36</td>\n      <td>3.76</td>\n      <td>289.47</td>\n      <td>0.77</td>\n      <td>68.05</td>\n      <td>0.70</td>\n      <td>0.05</td>\n      <td>0.0</td>\n      <td>1.25</td>\n      <td>256.0</td>\n    </tr>\n    <tr>\n      <th>1</th>\n      <td>1</td>\n      <td>VUS_PR</td>\n      <td>ae</td>\n      <td>Daphnet</td>\n      <td>S03R01E0.test.csv@6.out</td>\n      <td>50.10</td>\n      <td>11.51</td>\n      <td>50.26</td>\n      <td>12.70</td>\n      <td>526.93</td>\n      <td>6.30</td>\n      <td>62.86</td>\n      <td>0.48</td>\n      <td>0.09</td>\n      <td>0.0</td>\n      <td>0.58</td>\n      <td>256.0</td>\n    </tr>\n    <tr>\n      <th>2</th>\n      <td>2</td>\n      <td>VUS_PR</td>\n      <td>ae</td>\n      <td>Daphnet</td>\n      <td>S03R01E1.test.csv@1.out</td>\n      <td>54.26</td>\n      <td>24.58</td>\n      <td>53.32</td>\n      <td>24.04</td>\n      <td>298.19</td>\n      <td>1.06</td>\n      <td>60.54</td>\n      <td>0.53</td>\n      <td>0.06</td>\n      <td>0.0</td>\n      <td>2.68</td>\n      <td>768.0</td>\n    </tr>\n    <tr>\n      <th>3</th>\n      <td>3</td>\n      <td>VUS_PR</td>\n      <td>ae</td>\n      <td>Daphnet</td>\n      <td>S03R01E1.test.csv@2.out</td>\n      <td>59.08</td>\n      <td>25.60</td>\n      <td>58.44</td>\n      <td>27.13</td>\n      <td>333.39</td>\n      <td>5.38</td>\n      <td>61.76</td>\n      <td>0.50</td>\n      <td>0.06</td>\n      <td>0.0</td>\n      <td>0.89</td>\n      <td>256.0</td>\n    </tr>\n    <tr>\n      <th>4</th>\n      <td>4</td>\n      <td>VUS_PR</td>\n      <td>ae</td>\n      <td>Daphnet</td>\n      <td>S03R02E0.test.csv@2.out</td>\n      <td>76.38</td>\n      <td>28.71</td>\n      <td>76.35</td>\n      <td>28.62</td>\n      <td>203.10</td>\n      <td>6.48</td>\n      <td>94.40</td>\n      <td>0.29</td>\n      <td>0.05</td>\n      <td>0.0</td>\n      <td>3.86</td>\n      <td>512.0</td>\n    </tr>\n    <tr>\n      <th>...</th>\n      <td>...</td>\n      <td>...</td>\n      <td>...</td>\n      <td>...</td>\n      <td>...</td>\n      <td>...</td>\n      <td>...</td>\n      <td>...</td>\n      <td>...</td>\n      <td>...</td>\n      <td>...</td>\n      <td>...</td>\n      <td>...</td>\n      <td>...</td>\n      <td>...</td>\n      <td>...</td>\n      <td>...</td>\n    </tr>\n    <tr>\n      <th>3073</th>\n      <td>1021</td>\n      <td>RF</td>\n      <td>vae</td>\n      <td>YAHOO</td>\n      <td>Yahoo_A2synthetic_26_data.out</td>\n      <td>20.64</td>\n      <td>29.19</td>\n      <td>34.50</td>\n      <td>9.59</td>\n      <td>41.02</td>\n      <td>0.13</td>\n      <td>121.55</td>\n      <td>0.87</td>\n      <td>0.02</td>\n      <td>0.0</td>\n      <td>47.15</td>\n      <td>512.0</td>\n    </tr>\n    <tr>\n      <th>3074</th>\n      <td>1022</td>\n      <td>RF</td>\n      <td>vae</td>\n      <td>YAHOO</td>\n      <td>Yahoo_A2synthetic_64_data.out</td>\n      <td>50.03</td>\n      <td>4.12</td>\n      <td>57.29</td>\n      <td>6.14</td>\n      <td>41.55</td>\n      <td>0.10</td>\n      <td>218.60</td>\n      <td>0.71</td>\n      <td>0.03</td>\n      <td>0.0</td>\n      <td>94.29</td>\n      <td>1024.0</td>\n    </tr>\n    <tr>\n      <th>3075</th>\n      <td>1023</td>\n      <td>RF</td>\n      <td>vae</td>\n      <td>YAHOO</td>\n      <td>Yahoo_A2synthetic_77_data.out</td>\n      <td>37.33</td>\n      <td>1.56</td>\n      <td>71.70</td>\n      <td>37.40</td>\n      <td>42.68</td>\n      <td>0.33</td>\n      <td>120.65</td>\n      <td>0.63</td>\n      <td>0.02</td>\n      <td>0.0</td>\n      <td>23.57</td>\n      <td>256.0</td>\n    </tr>\n    <tr>\n      <th>3076</th>\n      <td>1024</td>\n      <td>RF</td>\n      <td>vae</td>\n      <td>YAHOO</td>\n      <td>Yahoo_A2synthetic_89_data.out</td>\n      <td>36.41</td>\n      <td>1.22</td>\n      <td>40.46</td>\n      <td>3.14</td>\n      <td>44.00</td>\n      <td>1.94</td>\n      <td>125.40</td>\n      <td>0.74</td>\n      <td>0.01</td>\n      <td>0.0</td>\n      <td>23.57</td>\n      <td>256.0</td>\n    </tr>\n    <tr>\n      <th>3077</th>\n      <td>1025</td>\n      <td>RF</td>\n      <td>vae</td>\n      <td>YAHOO</td>\n      <td>Yahoo_A2synthetic_94_data.out</td>\n      <td>35.30</td>\n      <td>0.39</td>\n      <td>35.03</td>\n      <td>0.00</td>\n      <td>42.42</td>\n      <td>0.02</td>\n      <td>207.75</td>\n      <td>0.50</td>\n      <td>0.03</td>\n      <td>0.0</td>\n      <td>94.29</td>\n      <td>1024.0</td>\n    </tr>\n  </tbody>\n</table>\n<p>3078 rows × 17 columns</p>\n</div>"
     },
     "execution_count": 11,
     "metadata": {},
     "output_type": "execute_result"
    },
    {
     "data": {
      "text/plain": "      index opt_target model_name dataset_name                        data_id   \n0         0     VUS_PR         ae      Daphnet        S02R01E0.test.csv@6.out  \\\n1         1     VUS_PR         ae      Daphnet        S03R01E0.test.csv@6.out   \n2         2     VUS_PR         ae      Daphnet        S03R01E1.test.csv@1.out   \n3         3     VUS_PR         ae      Daphnet        S03R01E1.test.csv@2.out   \n4         4     VUS_PR         ae      Daphnet        S03R02E0.test.csv@2.out   \n...     ...        ...        ...          ...                            ...   \n3073   1021         RF        vae        YAHOO  Yahoo_A2synthetic_26_data.out   \n3074   1022         RF        vae        YAHOO  Yahoo_A2synthetic_64_data.out   \n3075   1023         RF        vae        YAHOO  Yahoo_A2synthetic_77_data.out   \n3076   1024         RF        vae        YAHOO  Yahoo_A2synthetic_89_data.out   \n3077   1025         RF        vae        YAHOO  Yahoo_A2synthetic_94_data.out   \n\n      ori. perf. mean  ori. perf. std  fast. perf. mean  fast. perf. std   \n0               71.81            2.52             72.36             3.76  \\\n1               50.10           11.51             50.26            12.70   \n2               54.26           24.58             53.32            24.04   \n3               59.08           25.60             58.44            27.13   \n4               76.38           28.71             76.35            28.62   \n...               ...             ...               ...              ...   \n3073            20.64           29.19             34.50             9.59   \n3074            50.03            4.12             57.29             6.14   \n3075            37.33            1.56             71.70            37.40   \n3076            36.41            1.22             40.46             3.14   \n3077            35.30            0.39             35.03             0.00   \n\n      ori. train time mean  ori. train time std  fast. train time mean   \n0                   289.47                 0.77                  68.05  \\\n1                   526.93                 6.30                  62.86   \n2                   298.19                 1.06                  60.54   \n3                   333.39                 5.38                  61.76   \n4                   203.10                 6.48                  94.40   \n...                    ...                  ...                    ...   \n3073                 41.02                 0.13                 121.55   \n3074                 41.55                 0.10                 218.60   \n3075                 42.68                 0.33                 120.65   \n3076                 44.00                 1.94                 125.40   \n3077                 42.42                 0.02                 207.75   \n\n      fast. train time std  fast. data proc. time mean   \n0                     0.70                        0.05  \\\n1                     0.48                        0.09   \n2                     0.53                        0.06   \n3                     0.50                        0.06   \n4                     0.29                        0.05   \n...                    ...                         ...   \n3073                  0.87                        0.02   \n3074                  0.71                        0.03   \n3075                  0.63                        0.02   \n3076                  0.74                        0.01   \n3077                  0.50                        0.03   \n\n      fast. data proc. time std  fast. best sr  fast. best train len  \n0                           0.0           1.25                 256.0  \n1                           0.0           0.58                 256.0  \n2                           0.0           2.68                 768.0  \n3                           0.0           0.89                 256.0  \n4                           0.0           3.86                 512.0  \n...                         ...            ...                   ...  \n3073                        0.0          47.15                 512.0  \n3074                        0.0          94.29                1024.0  \n3075                        0.0          23.57                 256.0  \n3076                        0.0          23.57                 256.0  \n3077                        0.0          94.29                1024.0  \n\n[3078 rows x 17 columns]",
      "text/html": "<div>\n<style scoped>\n    .dataframe tbody tr th:only-of-type {\n        vertical-align: middle;\n    }\n\n    .dataframe tbody tr th {\n        vertical-align: top;\n    }\n\n    .dataframe thead th {\n        text-align: right;\n    }\n</style>\n<table border=\"1\" class=\"dataframe\">\n  <thead>\n    <tr style=\"text-align: right;\">\n      <th></th>\n      <th>index</th>\n      <th>opt_target</th>\n      <th>model_name</th>\n      <th>dataset_name</th>\n      <th>data_id</th>\n      <th>ori. perf. mean</th>\n      <th>ori. perf. std</th>\n      <th>fast. perf. mean</th>\n      <th>fast. perf. std</th>\n      <th>ori. train time mean</th>\n      <th>ori. train time std</th>\n      <th>fast. train time mean</th>\n      <th>fast. train time std</th>\n      <th>fast. data proc. time mean</th>\n      <th>fast. data proc. time std</th>\n      <th>fast. best sr</th>\n      <th>fast. best train len</th>\n    </tr>\n  </thead>\n  <tbody>\n    <tr>\n      <th>0</th>\n      <td>0</td>\n      <td>VUS_PR</td>\n      <td>ae</td>\n      <td>Daphnet</td>\n      <td>S02R01E0.test.csv@6.out</td>\n      <td>71.81</td>\n      <td>2.52</td>\n      <td>72.36</td>\n      <td>3.76</td>\n      <td>289.47</td>\n      <td>0.77</td>\n      <td>68.05</td>\n      <td>0.70</td>\n      <td>0.05</td>\n      <td>0.0</td>\n      <td>1.25</td>\n      <td>256.0</td>\n    </tr>\n    <tr>\n      <th>1</th>\n      <td>1</td>\n      <td>VUS_PR</td>\n      <td>ae</td>\n      <td>Daphnet</td>\n      <td>S03R01E0.test.csv@6.out</td>\n      <td>50.10</td>\n      <td>11.51</td>\n      <td>50.26</td>\n      <td>12.70</td>\n      <td>526.93</td>\n      <td>6.30</td>\n      <td>62.86</td>\n      <td>0.48</td>\n      <td>0.09</td>\n      <td>0.0</td>\n      <td>0.58</td>\n      <td>256.0</td>\n    </tr>\n    <tr>\n      <th>2</th>\n      <td>2</td>\n      <td>VUS_PR</td>\n      <td>ae</td>\n      <td>Daphnet</td>\n      <td>S03R01E1.test.csv@1.out</td>\n      <td>54.26</td>\n      <td>24.58</td>\n      <td>53.32</td>\n      <td>24.04</td>\n      <td>298.19</td>\n      <td>1.06</td>\n      <td>60.54</td>\n      <td>0.53</td>\n      <td>0.06</td>\n      <td>0.0</td>\n      <td>2.68</td>\n      <td>768.0</td>\n    </tr>\n    <tr>\n      <th>3</th>\n      <td>3</td>\n      <td>VUS_PR</td>\n      <td>ae</td>\n      <td>Daphnet</td>\n      <td>S03R01E1.test.csv@2.out</td>\n      <td>59.08</td>\n      <td>25.60</td>\n      <td>58.44</td>\n      <td>27.13</td>\n      <td>333.39</td>\n      <td>5.38</td>\n      <td>61.76</td>\n      <td>0.50</td>\n      <td>0.06</td>\n      <td>0.0</td>\n      <td>0.89</td>\n      <td>256.0</td>\n    </tr>\n    <tr>\n      <th>4</th>\n      <td>4</td>\n      <td>VUS_PR</td>\n      <td>ae</td>\n      <td>Daphnet</td>\n      <td>S03R02E0.test.csv@2.out</td>\n      <td>76.38</td>\n      <td>28.71</td>\n      <td>76.35</td>\n      <td>28.62</td>\n      <td>203.10</td>\n      <td>6.48</td>\n      <td>94.40</td>\n      <td>0.29</td>\n      <td>0.05</td>\n      <td>0.0</td>\n      <td>3.86</td>\n      <td>512.0</td>\n    </tr>\n    <tr>\n      <th>...</th>\n      <td>...</td>\n      <td>...</td>\n      <td>...</td>\n      <td>...</td>\n      <td>...</td>\n      <td>...</td>\n      <td>...</td>\n      <td>...</td>\n      <td>...</td>\n      <td>...</td>\n      <td>...</td>\n      <td>...</td>\n      <td>...</td>\n      <td>...</td>\n      <td>...</td>\n      <td>...</td>\n      <td>...</td>\n    </tr>\n    <tr>\n      <th>3073</th>\n      <td>1021</td>\n      <td>RF</td>\n      <td>vae</td>\n      <td>YAHOO</td>\n      <td>Yahoo_A2synthetic_26_data.out</td>\n      <td>20.64</td>\n      <td>29.19</td>\n      <td>34.50</td>\n      <td>9.59</td>\n      <td>41.02</td>\n      <td>0.13</td>\n      <td>121.55</td>\n      <td>0.87</td>\n      <td>0.02</td>\n      <td>0.0</td>\n      <td>47.15</td>\n      <td>512.0</td>\n    </tr>\n    <tr>\n      <th>3074</th>\n      <td>1022</td>\n      <td>RF</td>\n      <td>vae</td>\n      <td>YAHOO</td>\n      <td>Yahoo_A2synthetic_64_data.out</td>\n      <td>50.03</td>\n      <td>4.12</td>\n      <td>57.29</td>\n      <td>6.14</td>\n      <td>41.55</td>\n      <td>0.10</td>\n      <td>218.60</td>\n      <td>0.71</td>\n      <td>0.03</td>\n      <td>0.0</td>\n      <td>94.29</td>\n      <td>1024.0</td>\n    </tr>\n    <tr>\n      <th>3075</th>\n      <td>1023</td>\n      <td>RF</td>\n      <td>vae</td>\n      <td>YAHOO</td>\n      <td>Yahoo_A2synthetic_77_data.out</td>\n      <td>37.33</td>\n      <td>1.56</td>\n      <td>71.70</td>\n      <td>37.40</td>\n      <td>42.68</td>\n      <td>0.33</td>\n      <td>120.65</td>\n      <td>0.63</td>\n      <td>0.02</td>\n      <td>0.0</td>\n      <td>23.57</td>\n      <td>256.0</td>\n    </tr>\n    <tr>\n      <th>3076</th>\n      <td>1024</td>\n      <td>RF</td>\n      <td>vae</td>\n      <td>YAHOO</td>\n      <td>Yahoo_A2synthetic_89_data.out</td>\n      <td>36.41</td>\n      <td>1.22</td>\n      <td>40.46</td>\n      <td>3.14</td>\n      <td>44.00</td>\n      <td>1.94</td>\n      <td>125.40</td>\n      <td>0.74</td>\n      <td>0.01</td>\n      <td>0.0</td>\n      <td>23.57</td>\n      <td>256.0</td>\n    </tr>\n    <tr>\n      <th>3077</th>\n      <td>1025</td>\n      <td>RF</td>\n      <td>vae</td>\n      <td>YAHOO</td>\n      <td>Yahoo_A2synthetic_94_data.out</td>\n      <td>35.30</td>\n      <td>0.39</td>\n      <td>35.03</td>\n      <td>0.00</td>\n      <td>42.42</td>\n      <td>0.02</td>\n      <td>207.75</td>\n      <td>0.50</td>\n      <td>0.03</td>\n      <td>0.0</td>\n      <td>94.29</td>\n      <td>1024.0</td>\n    </tr>\n  </tbody>\n</table>\n<p>3078 rows × 17 columns</p>\n</div>"
     },
     "execution_count": 14,
     "metadata": {},
     "output_type": "execute_result"
    }
   ],
   "source": [
    "import numpy as np\n",
    "import pandas as pd\n",
    "\n",
    "from pysearchlib.share.ExcelOutKeys import EK\n",
    "from pysearchlib.utils.util_pandas import PDUtil\n",
    "\n",
    "df = pd.read_excel(\"perf_model_over_uts.xlsx\")\n",
    "df"
   ],
   "metadata": {
    "collapsed": false,
    "ExecuteTime": {
     "end_time": "2024-07-31T09:44:06.091335Z",
     "start_time": "2024-07-31T09:44:02.645591Z"
    }
   }
  },
  {
   "cell_type": "code",
   "execution_count": 15,
   "outputs": [
    {
     "data": {
      "text/plain": "                      mean        median           std\n             fast. best sr fast. best sr fast. best sr\ndataset_name                                          \nDaphnet               5.98          3.36          5.56\nECG                   0.46          0.42          0.36\nIOPS                  3.52          0.90          6.37\nMGAB                  1.26          0.96          1.12\nOPPORTUNITY           3.13          2.51          2.59\nSMD                   3.86          3.35          2.61\nSVDB                  0.45          0.42          0.37\nYAHOO                50.99         47.15         26.95",
      "text/html": "<div>\n<style scoped>\n    .dataframe tbody tr th:only-of-type {\n        vertical-align: middle;\n    }\n\n    .dataframe tbody tr th {\n        vertical-align: top;\n    }\n\n    .dataframe thead tr th {\n        text-align: left;\n    }\n\n    .dataframe thead tr:last-of-type th {\n        text-align: right;\n    }\n</style>\n<table border=\"1\" class=\"dataframe\">\n  <thead>\n    <tr>\n      <th></th>\n      <th>mean</th>\n      <th>median</th>\n      <th>std</th>\n    </tr>\n    <tr>\n      <th></th>\n      <th>fast. best sr</th>\n      <th>fast. best sr</th>\n      <th>fast. best sr</th>\n    </tr>\n    <tr>\n      <th>dataset_name</th>\n      <th></th>\n      <th></th>\n      <th></th>\n    </tr>\n  </thead>\n  <tbody>\n    <tr>\n      <th>Daphnet</th>\n      <td>5.98</td>\n      <td>3.36</td>\n      <td>5.56</td>\n    </tr>\n    <tr>\n      <th>ECG</th>\n      <td>0.46</td>\n      <td>0.42</td>\n      <td>0.36</td>\n    </tr>\n    <tr>\n      <th>IOPS</th>\n      <td>3.52</td>\n      <td>0.90</td>\n      <td>6.37</td>\n    </tr>\n    <tr>\n      <th>MGAB</th>\n      <td>1.26</td>\n      <td>0.96</td>\n      <td>1.12</td>\n    </tr>\n    <tr>\n      <th>OPPORTUNITY</th>\n      <td>3.13</td>\n      <td>2.51</td>\n      <td>2.59</td>\n    </tr>\n    <tr>\n      <th>SMD</th>\n      <td>3.86</td>\n      <td>3.35</td>\n      <td>2.61</td>\n    </tr>\n    <tr>\n      <th>SVDB</th>\n      <td>0.45</td>\n      <td>0.42</td>\n      <td>0.37</td>\n    </tr>\n    <tr>\n      <th>YAHOO</th>\n      <td>50.99</td>\n      <td>47.15</td>\n      <td>26.95</td>\n    </tr>\n  </tbody>\n</table>\n</div>"
     },
     "execution_count": 12,
     "metadata": {},
     "output_type": "execute_result"
    },
    {
     "data": {
      "text/plain": "                      mean        median           std\n             fast. best sr fast. best sr fast. best sr\ndataset_name                                          \nDaphnet               5.98          3.36          5.56\nECG                   0.46          0.42          0.36\nIOPS                  3.52          0.90          6.37\nMGAB                  1.26          0.96          1.12\nOPPORTUNITY           3.13          2.51          2.59\nSMD                   3.86          3.35          2.61\nSVDB                  0.45          0.42          0.37\nYAHOO                50.99         47.15         26.95",
      "text/html": "<div>\n<style scoped>\n    .dataframe tbody tr th:only-of-type {\n        vertical-align: middle;\n    }\n\n    .dataframe tbody tr th {\n        vertical-align: top;\n    }\n\n    .dataframe thead tr th {\n        text-align: left;\n    }\n\n    .dataframe thead tr:last-of-type th {\n        text-align: right;\n    }\n</style>\n<table border=\"1\" class=\"dataframe\">\n  <thead>\n    <tr>\n      <th></th>\n      <th>mean</th>\n      <th>median</th>\n      <th>std</th>\n    </tr>\n    <tr>\n      <th></th>\n      <th>fast. best sr</th>\n      <th>fast. best sr</th>\n      <th>fast. best sr</th>\n    </tr>\n    <tr>\n      <th>dataset_name</th>\n      <th></th>\n      <th></th>\n      <th></th>\n    </tr>\n  </thead>\n  <tbody>\n    <tr>\n      <th>Daphnet</th>\n      <td>5.98</td>\n      <td>3.36</td>\n      <td>5.56</td>\n    </tr>\n    <tr>\n      <th>ECG</th>\n      <td>0.46</td>\n      <td>0.42</td>\n      <td>0.36</td>\n    </tr>\n    <tr>\n      <th>IOPS</th>\n      <td>3.52</td>\n      <td>0.90</td>\n      <td>6.37</td>\n    </tr>\n    <tr>\n      <th>MGAB</th>\n      <td>1.26</td>\n      <td>0.96</td>\n      <td>1.12</td>\n    </tr>\n    <tr>\n      <th>OPPORTUNITY</th>\n      <td>3.13</td>\n      <td>2.51</td>\n      <td>2.59</td>\n    </tr>\n    <tr>\n      <th>SMD</th>\n      <td>3.86</td>\n      <td>3.35</td>\n      <td>2.61</td>\n    </tr>\n    <tr>\n      <th>SVDB</th>\n      <td>0.45</td>\n      <td>0.42</td>\n      <td>0.37</td>\n    </tr>\n    <tr>\n      <th>YAHOO</th>\n      <td>50.99</td>\n      <td>47.15</td>\n      <td>26.95</td>\n    </tr>\n  </tbody>\n</table>\n</div>"
     },
     "execution_count": 15,
     "metadata": {},
     "output_type": "execute_result"
    }
   ],
   "source": [
    "res = df.pivot_table(\n",
    "    index=[EK.DATASET_NAME],\n",
    "    values=[EK.FAST_BEST_SR],\n",
    "    aggfunc=[np.mean, np.median, np.std]\n",
    ")\n",
    "res = res.round(2)\n",
    "res"
   ],
   "metadata": {
    "collapsed": false,
    "ExecuteTime": {
     "end_time": "2024-07-31T09:44:06.103117Z",
     "start_time": "2024-07-31T09:44:03.030715Z"
    }
   }
  },
  {
   "cell_type": "code",
   "execution_count": 16,
   "outputs": [],
   "source": [
    "PDUtil.save_to_latex(res.reset_index(), \"effect_of_data_size\", caption=\"Effect of data size\",\n",
    "                     label=\"tab:effect_of_data_size\")"
   ],
   "metadata": {
    "collapsed": false,
    "ExecuteTime": {
     "end_time": "2024-07-31T09:44:06.109525Z",
     "start_time": "2024-07-31T09:44:06.103295Z"
    }
   }
  },
  {
   "cell_type": "code",
   "execution_count": 16,
   "outputs": [],
   "source": [],
   "metadata": {
    "collapsed": false,
    "ExecuteTime": {
     "end_time": "2024-07-31T09:44:06.114604Z",
     "start_time": "2024-07-31T09:44:06.110015Z"
    }
   }
  }
 ],
 "metadata": {
  "kernelspec": {
   "display_name": "Python 3",
   "language": "python",
   "name": "python3"
  },
  "language_info": {
   "codemirror_mode": {
    "name": "ipython",
    "version": 2
   },
   "file_extension": ".py",
   "mimetype": "text/x-python",
   "name": "python",
   "nbconvert_exporter": "python",
   "pygments_lexer": "ipython2",
   "version": "2.7.6"
  }
 },
 "nbformat": 4,
 "nbformat_minor": 0
}

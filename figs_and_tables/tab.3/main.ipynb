{
 "cells": [
  {
   "cell_type": "code",
   "execution_count": 49,
   "metadata": {
    "collapsed": true,
    "ExecuteTime": {
     "end_time": "2024-07-31T09:43:17.730227Z",
     "start_time": "2024-07-31T09:43:16.057135Z"
    }
   },
   "outputs": [
    {
     "data": {
      "text/plain": "      index  data_processing_time  window_size model_name data_sample_method   \n0         0                   NaN           64      ocsvm             random  \\\n1         0              0.005151           64      ocsvm             random   \n2         0              0.006567           64      ocsvm             random   \n3         0                   NaN           64      ocsvm             random   \n4         0              0.005501           64      ocsvm             random   \n...     ...                   ...          ...        ...                ...   \n5170      0              0.000127           64        vae             random   \n5171      0                   NaN           64        vae             random   \n5172      0                   NaN           64        vae             random   \n5173      0              0.000228           64        vae             random   \n5174      0              0.000159           64        vae             random   \n\n      data_sample_rate dataset_name                         data_id   \n0                   -1  OPPORTUNITY         S1-ADL3.test.csv@77.out  \\\n1                   -1  OPPORTUNITY        S3-ADL5.test.csv@103.out   \n2                   -1  OPPORTUNITY         S2-ADL5.test.csv@53.out   \n3                   -1  OPPORTUNITY         S4-ADL2.test.csv@77.out   \n4                   -1  OPPORTUNITY        S4-ADL2.test.csv@131.out   \n...                ...          ...                             ...   \n5170                -1        YAHOO  YahooA3Benchmark-TS94_data.out   \n5171                -1        YAHOO        Yahoo_A1real_14_data.out   \n5172                -1        YAHOO   Yahoo_A2synthetic_94_data.out   \n5173                -1        YAHOO   Yahoo_A2synthetic_89_data.out   \n5174                -1        YAHOO  YahooA3Benchmark-TS62_data.out   \n\n      exp_total  exp_index  ...   AUC_ROC    AUC_PR Precision_at_k   \n0          2300       1458  ...       NaN       NaN            NaN  \\\n1          2300       1491  ...  0.974485  0.722160       0.941281   \n2          2300       1446  ...  0.159501  0.069478       0.003876   \n3          2300       1427  ...       NaN       NaN            NaN   \n4          2300       1500  ...  0.297420  0.086572       0.000000   \n...         ...        ...  ...       ...       ...            ...   \n5170       2875       2247  ...  0.201322  0.121236       0.000000   \n5171       2875       2264  ...       NaN       NaN            NaN   \n5172       2875       2256  ...       NaN       NaN            NaN   \n5173       2875       2243  ...  0.999884  0.999807       0.108911   \n5174       2875       2300  ...  0.505043  0.590472       0.151220   \n\n      Rprecision   Rrecall        RF  R_AUC_ROC  R_AUC_PR   VUS_ROC    VUS_PR  \n0            NaN       NaN       NaN        NaN       NaN       NaN       NaN  \n1       0.638095  0.576512  0.605743   0.969346  0.702440  0.970387  0.703535  \n2       0.062500  0.203101  0.095586   0.200952  0.075405  0.200935  0.075634  \n3            NaN       NaN       NaN        NaN       NaN       NaN       NaN  \n4       0.000000  0.000000  0.000000   0.347061  0.096906  0.346198  0.097119  \n...          ...       ...       ...        ...       ...       ...       ...  \n5170    0.000000  0.000000  0.000000   0.340599  0.205876  0.342605  0.211511  \n5171         NaN       NaN       NaN        NaN       NaN       NaN       NaN  \n5172         NaN       NaN       NaN        NaN       NaN       NaN       NaN  \n5173    1.000000  0.229043  0.372718   0.973473  0.973082  0.975566  0.975592  \n5174    0.442857  0.142508  0.215628   0.817979  0.853390  0.730672  0.848153  \n\n[5175 rows x 53 columns]",
      "text/html": "<div>\n<style scoped>\n    .dataframe tbody tr th:only-of-type {\n        vertical-align: middle;\n    }\n\n    .dataframe tbody tr th {\n        vertical-align: top;\n    }\n\n    .dataframe thead th {\n        text-align: right;\n    }\n</style>\n<table border=\"1\" class=\"dataframe\">\n  <thead>\n    <tr style=\"text-align: right;\">\n      <th></th>\n      <th>index</th>\n      <th>data_processing_time</th>\n      <th>window_size</th>\n      <th>model_name</th>\n      <th>data_sample_method</th>\n      <th>data_sample_rate</th>\n      <th>dataset_name</th>\n      <th>data_id</th>\n      <th>exp_total</th>\n      <th>exp_index</th>\n      <th>...</th>\n      <th>AUC_ROC</th>\n      <th>AUC_PR</th>\n      <th>Precision_at_k</th>\n      <th>Rprecision</th>\n      <th>Rrecall</th>\n      <th>RF</th>\n      <th>R_AUC_ROC</th>\n      <th>R_AUC_PR</th>\n      <th>VUS_ROC</th>\n      <th>VUS_PR</th>\n    </tr>\n  </thead>\n  <tbody>\n    <tr>\n      <th>0</th>\n      <td>0</td>\n      <td>NaN</td>\n      <td>64</td>\n      <td>ocsvm</td>\n      <td>random</td>\n      <td>-1</td>\n      <td>OPPORTUNITY</td>\n      <td>S1-ADL3.test.csv@77.out</td>\n      <td>2300</td>\n      <td>1458</td>\n      <td>...</td>\n      <td>NaN</td>\n      <td>NaN</td>\n      <td>NaN</td>\n      <td>NaN</td>\n      <td>NaN</td>\n      <td>NaN</td>\n      <td>NaN</td>\n      <td>NaN</td>\n      <td>NaN</td>\n      <td>NaN</td>\n    </tr>\n    <tr>\n      <th>1</th>\n      <td>0</td>\n      <td>0.005151</td>\n      <td>64</td>\n      <td>ocsvm</td>\n      <td>random</td>\n      <td>-1</td>\n      <td>OPPORTUNITY</td>\n      <td>S3-ADL5.test.csv@103.out</td>\n      <td>2300</td>\n      <td>1491</td>\n      <td>...</td>\n      <td>0.974485</td>\n      <td>0.722160</td>\n      <td>0.941281</td>\n      <td>0.638095</td>\n      <td>0.576512</td>\n      <td>0.605743</td>\n      <td>0.969346</td>\n      <td>0.702440</td>\n      <td>0.970387</td>\n      <td>0.703535</td>\n    </tr>\n    <tr>\n      <th>2</th>\n      <td>0</td>\n      <td>0.006567</td>\n      <td>64</td>\n      <td>ocsvm</td>\n      <td>random</td>\n      <td>-1</td>\n      <td>OPPORTUNITY</td>\n      <td>S2-ADL5.test.csv@53.out</td>\n      <td>2300</td>\n      <td>1446</td>\n      <td>...</td>\n      <td>0.159501</td>\n      <td>0.069478</td>\n      <td>0.003876</td>\n      <td>0.062500</td>\n      <td>0.203101</td>\n      <td>0.095586</td>\n      <td>0.200952</td>\n      <td>0.075405</td>\n      <td>0.200935</td>\n      <td>0.075634</td>\n    </tr>\n    <tr>\n      <th>3</th>\n      <td>0</td>\n      <td>NaN</td>\n      <td>64</td>\n      <td>ocsvm</td>\n      <td>random</td>\n      <td>-1</td>\n      <td>OPPORTUNITY</td>\n      <td>S4-ADL2.test.csv@77.out</td>\n      <td>2300</td>\n      <td>1427</td>\n      <td>...</td>\n      <td>NaN</td>\n      <td>NaN</td>\n      <td>NaN</td>\n      <td>NaN</td>\n      <td>NaN</td>\n      <td>NaN</td>\n      <td>NaN</td>\n      <td>NaN</td>\n      <td>NaN</td>\n      <td>NaN</td>\n    </tr>\n    <tr>\n      <th>4</th>\n      <td>0</td>\n      <td>0.005501</td>\n      <td>64</td>\n      <td>ocsvm</td>\n      <td>random</td>\n      <td>-1</td>\n      <td>OPPORTUNITY</td>\n      <td>S4-ADL2.test.csv@131.out</td>\n      <td>2300</td>\n      <td>1500</td>\n      <td>...</td>\n      <td>0.297420</td>\n      <td>0.086572</td>\n      <td>0.000000</td>\n      <td>0.000000</td>\n      <td>0.000000</td>\n      <td>0.000000</td>\n      <td>0.347061</td>\n      <td>0.096906</td>\n      <td>0.346198</td>\n      <td>0.097119</td>\n    </tr>\n    <tr>\n      <th>...</th>\n      <td>...</td>\n      <td>...</td>\n      <td>...</td>\n      <td>...</td>\n      <td>...</td>\n      <td>...</td>\n      <td>...</td>\n      <td>...</td>\n      <td>...</td>\n      <td>...</td>\n      <td>...</td>\n      <td>...</td>\n      <td>...</td>\n      <td>...</td>\n      <td>...</td>\n      <td>...</td>\n      <td>...</td>\n      <td>...</td>\n      <td>...</td>\n      <td>...</td>\n      <td>...</td>\n    </tr>\n    <tr>\n      <th>5170</th>\n      <td>0</td>\n      <td>0.000127</td>\n      <td>64</td>\n      <td>vae</td>\n      <td>random</td>\n      <td>-1</td>\n      <td>YAHOO</td>\n      <td>YahooA3Benchmark-TS94_data.out</td>\n      <td>2875</td>\n      <td>2247</td>\n      <td>...</td>\n      <td>0.201322</td>\n      <td>0.121236</td>\n      <td>0.000000</td>\n      <td>0.000000</td>\n      <td>0.000000</td>\n      <td>0.000000</td>\n      <td>0.340599</td>\n      <td>0.205876</td>\n      <td>0.342605</td>\n      <td>0.211511</td>\n    </tr>\n    <tr>\n      <th>5171</th>\n      <td>0</td>\n      <td>NaN</td>\n      <td>64</td>\n      <td>vae</td>\n      <td>random</td>\n      <td>-1</td>\n      <td>YAHOO</td>\n      <td>Yahoo_A1real_14_data.out</td>\n      <td>2875</td>\n      <td>2264</td>\n      <td>...</td>\n      <td>NaN</td>\n      <td>NaN</td>\n      <td>NaN</td>\n      <td>NaN</td>\n      <td>NaN</td>\n      <td>NaN</td>\n      <td>NaN</td>\n      <td>NaN</td>\n      <td>NaN</td>\n      <td>NaN</td>\n    </tr>\n    <tr>\n      <th>5172</th>\n      <td>0</td>\n      <td>NaN</td>\n      <td>64</td>\n      <td>vae</td>\n      <td>random</td>\n      <td>-1</td>\n      <td>YAHOO</td>\n      <td>Yahoo_A2synthetic_94_data.out</td>\n      <td>2875</td>\n      <td>2256</td>\n      <td>...</td>\n      <td>NaN</td>\n      <td>NaN</td>\n      <td>NaN</td>\n      <td>NaN</td>\n      <td>NaN</td>\n      <td>NaN</td>\n      <td>NaN</td>\n      <td>NaN</td>\n      <td>NaN</td>\n      <td>NaN</td>\n    </tr>\n    <tr>\n      <th>5173</th>\n      <td>0</td>\n      <td>0.000228</td>\n      <td>64</td>\n      <td>vae</td>\n      <td>random</td>\n      <td>-1</td>\n      <td>YAHOO</td>\n      <td>Yahoo_A2synthetic_89_data.out</td>\n      <td>2875</td>\n      <td>2243</td>\n      <td>...</td>\n      <td>0.999884</td>\n      <td>0.999807</td>\n      <td>0.108911</td>\n      <td>1.000000</td>\n      <td>0.229043</td>\n      <td>0.372718</td>\n      <td>0.973473</td>\n      <td>0.973082</td>\n      <td>0.975566</td>\n      <td>0.975592</td>\n    </tr>\n    <tr>\n      <th>5174</th>\n      <td>0</td>\n      <td>0.000159</td>\n      <td>64</td>\n      <td>vae</td>\n      <td>random</td>\n      <td>-1</td>\n      <td>YAHOO</td>\n      <td>YahooA3Benchmark-TS62_data.out</td>\n      <td>2875</td>\n      <td>2300</td>\n      <td>...</td>\n      <td>0.505043</td>\n      <td>0.590472</td>\n      <td>0.151220</td>\n      <td>0.442857</td>\n      <td>0.142508</td>\n      <td>0.215628</td>\n      <td>0.817979</td>\n      <td>0.853390</td>\n      <td>0.730672</td>\n      <td>0.848153</td>\n    </tr>\n  </tbody>\n</table>\n<p>5175 rows × 53 columns</p>\n</div>"
     },
     "execution_count": 49,
     "metadata": {},
     "output_type": "execute_result"
    }
   ],
   "source": [
    "import numpy as np\n",
    "from pysearchlib.share.ExcelOutKeys import EK\n",
    "import pandas as pd\n",
    "\n",
    "from pysearchlib.utils.util_pandas import PDUtil\n",
    "\n",
    "original_data = pd.read_excel(\n",
    "    \"../data/v4000_01_baseline_vus_roc_0.001_random_original_metrics.xlsx\")\n",
    "original_data"
   ]
  },
  {
   "cell_type": "code",
   "execution_count": 50,
   "outputs": [
    {
     "data": {
      "text/plain": "(3780, 53)"
     },
     "execution_count": 50,
     "metadata": {},
     "output_type": "execute_result"
    }
   ],
   "source": [
    "df = original_data[original_data[EK.DATA_PROCESSING_TIME] > 0]\n",
    "df = df[df[EK.DEBUG] == False]\n",
    "df.shape"
   ],
   "metadata": {
    "collapsed": false,
    "ExecuteTime": {
     "end_time": "2024-07-31T09:43:17.734974Z",
     "start_time": "2024-07-31T09:43:17.731340Z"
    }
   }
  },
  {
   "cell_type": "code",
   "execution_count": 51,
   "outputs": [
    {
     "data": {
      "text/plain": "                                                                                                    RF   \nexp_name                               model_name dataset_name data_id                                   \nv4000_01_baseline_vus_roc_0.001_random ae         Daphnet      S02R01E0.test.csv@6.out        0.130493  \\\n                                                               S03R01E0.test.csv@6.out        0.213285   \n                                                               S03R01E1.test.csv@1.out        0.069861   \n                                                               S03R01E1.test.csv@2.out        0.077832   \n                                                               S03R02E0.test.csv@2.out        0.338327   \n...                                                                                                ...   \n                                       vae        YAHOO        Yahoo_A2synthetic_26_data.out  0.206425   \n                                                               Yahoo_A2synthetic_64_data.out  0.500265   \n                                                               Yahoo_A2synthetic_77_data.out  0.373326   \n                                                               Yahoo_A2synthetic_89_data.out  0.364100   \n                                                               Yahoo_A2synthetic_94_data.out  0.353036   \n\n                                                                                                VUS_PR   \nexp_name                               model_name dataset_name data_id                                   \nv4000_01_baseline_vus_roc_0.001_random ae         Daphnet      S02R01E0.test.csv@6.out        0.718122  \\\n                                                               S03R01E0.test.csv@6.out        0.501023   \n                                                               S03R01E1.test.csv@1.out        0.542593   \n                                                               S03R01E1.test.csv@2.out        0.590763   \n                                                               S03R02E0.test.csv@2.out        0.763780   \n...                                                                                                ...   \n                                       vae        YAHOO        Yahoo_A2synthetic_26_data.out  0.564351   \n                                                               Yahoo_A2synthetic_64_data.out  0.918803   \n                                                               Yahoo_A2synthetic_77_data.out  0.932159   \n                                                               Yahoo_A2synthetic_89_data.out  0.948159   \n                                                               Yahoo_A2synthetic_94_data.out  0.608773   \n\n                                                                                               VUS_ROC   \nexp_name                               model_name dataset_name data_id                                   \nv4000_01_baseline_vus_roc_0.001_random ae         Daphnet      S02R01E0.test.csv@6.out        0.754912  \\\n                                                               S03R01E0.test.csv@6.out        0.780829   \n                                                               S03R01E1.test.csv@1.out        0.716905   \n                                                               S03R01E1.test.csv@2.out        0.793985   \n                                                               S03R02E0.test.csv@2.out        0.713385   \n...                                                                                                ...   \n                                       vae        YAHOO        Yahoo_A2synthetic_26_data.out  0.724287   \n                                                               Yahoo_A2synthetic_64_data.out  0.962121   \n                                                               Yahoo_A2synthetic_77_data.out  0.916909   \n                                                               Yahoo_A2synthetic_89_data.out  0.955471   \n                                                               Yahoo_A2synthetic_94_data.out  0.818012   \n\n                                                                                              elapsed_train  \nexp_name                               model_name dataset_name data_id                                       \nv4000_01_baseline_vus_roc_0.001_random ae         Daphnet      S02R01E0.test.csv@6.out               115.79  \n                                                               S03R01E0.test.csv@6.out               421.54  \n                                                               S03R01E1.test.csv@1.out               238.55  \n                                                               S03R01E1.test.csv@2.out               266.71  \n                                                               S03R02E0.test.csv@2.out                81.24  \n...                                                                                                     ...  \n                                       vae        YAHOO        Yahoo_A2synthetic_26_data.out          16.41  \n                                                               Yahoo_A2synthetic_64_data.out          16.62  \n                                                               Yahoo_A2synthetic_77_data.out          17.07  \n                                                               Yahoo_A2synthetic_89_data.out          17.60  \n                                                               Yahoo_A2synthetic_94_data.out          16.97  \n\n[1026 rows x 4 columns]",
      "text/html": "<div>\n<style scoped>\n    .dataframe tbody tr th:only-of-type {\n        vertical-align: middle;\n    }\n\n    .dataframe tbody tr th {\n        vertical-align: top;\n    }\n\n    .dataframe thead th {\n        text-align: right;\n    }\n</style>\n<table border=\"1\" class=\"dataframe\">\n  <thead>\n    <tr style=\"text-align: right;\">\n      <th></th>\n      <th></th>\n      <th></th>\n      <th></th>\n      <th>RF</th>\n      <th>VUS_PR</th>\n      <th>VUS_ROC</th>\n      <th>elapsed_train</th>\n    </tr>\n    <tr>\n      <th>exp_name</th>\n      <th>model_name</th>\n      <th>dataset_name</th>\n      <th>data_id</th>\n      <th></th>\n      <th></th>\n      <th></th>\n      <th></th>\n    </tr>\n  </thead>\n  <tbody>\n    <tr>\n      <th rowspan=\"11\" valign=\"top\">v4000_01_baseline_vus_roc_0.001_random</th>\n      <th rowspan=\"5\" valign=\"top\">ae</th>\n      <th rowspan=\"5\" valign=\"top\">Daphnet</th>\n      <th>S02R01E0.test.csv@6.out</th>\n      <td>0.130493</td>\n      <td>0.718122</td>\n      <td>0.754912</td>\n      <td>115.79</td>\n    </tr>\n    <tr>\n      <th>S03R01E0.test.csv@6.out</th>\n      <td>0.213285</td>\n      <td>0.501023</td>\n      <td>0.780829</td>\n      <td>421.54</td>\n    </tr>\n    <tr>\n      <th>S03R01E1.test.csv@1.out</th>\n      <td>0.069861</td>\n      <td>0.542593</td>\n      <td>0.716905</td>\n      <td>238.55</td>\n    </tr>\n    <tr>\n      <th>S03R01E1.test.csv@2.out</th>\n      <td>0.077832</td>\n      <td>0.590763</td>\n      <td>0.793985</td>\n      <td>266.71</td>\n    </tr>\n    <tr>\n      <th>S03R02E0.test.csv@2.out</th>\n      <td>0.338327</td>\n      <td>0.763780</td>\n      <td>0.713385</td>\n      <td>81.24</td>\n    </tr>\n    <tr>\n      <th>...</th>\n      <th>...</th>\n      <th>...</th>\n      <td>...</td>\n      <td>...</td>\n      <td>...</td>\n      <td>...</td>\n    </tr>\n    <tr>\n      <th rowspan=\"5\" valign=\"top\">vae</th>\n      <th rowspan=\"5\" valign=\"top\">YAHOO</th>\n      <th>Yahoo_A2synthetic_26_data.out</th>\n      <td>0.206425</td>\n      <td>0.564351</td>\n      <td>0.724287</td>\n      <td>16.41</td>\n    </tr>\n    <tr>\n      <th>Yahoo_A2synthetic_64_data.out</th>\n      <td>0.500265</td>\n      <td>0.918803</td>\n      <td>0.962121</td>\n      <td>16.62</td>\n    </tr>\n    <tr>\n      <th>Yahoo_A2synthetic_77_data.out</th>\n      <td>0.373326</td>\n      <td>0.932159</td>\n      <td>0.916909</td>\n      <td>17.07</td>\n    </tr>\n    <tr>\n      <th>Yahoo_A2synthetic_89_data.out</th>\n      <td>0.364100</td>\n      <td>0.948159</td>\n      <td>0.955471</td>\n      <td>17.60</td>\n    </tr>\n    <tr>\n      <th>Yahoo_A2synthetic_94_data.out</th>\n      <td>0.353036</td>\n      <td>0.608773</td>\n      <td>0.818012</td>\n      <td>16.97</td>\n    </tr>\n  </tbody>\n</table>\n<p>1026 rows × 4 columns</p>\n</div>"
     },
     "execution_count": 51,
     "metadata": {},
     "output_type": "execute_result"
    }
   ],
   "source": [
    "def merged_original_data(data):\n",
    "    # print(type(data))\n",
    "    return data.round(2).to_list()\n",
    "\n",
    "\n",
    "merage_data = df.pivot_table(\n",
    "    index=[EK.EXP_NAME, EK.MODEL_NAME, EK.DATASET_NAME, EK.DATA_ID],\n",
    "    values=[EK.VUS_ROC, EK.VUS_PR, EK.RF, EK.ELAPSED_TRAIN, EK.VERBOSE],\n",
    "    aggfunc={\n",
    "        EK.VUS_ROC: np.mean,\n",
    "        EK.VUS_PR: np.mean,\n",
    "        EK.RF: np.mean,\n",
    "        EK.ELAPSED_TRAIN: np.sum,\n",
    "    }\n",
    ")\n",
    "merage_data"
   ],
   "metadata": {
    "collapsed": false,
    "ExecuteTime": {
     "end_time": "2024-07-31T09:43:17.748922Z",
     "start_time": "2024-07-31T09:43:17.737646Z"
    }
   }
  },
  {
   "cell_type": "code",
   "execution_count": 52,
   "outputs": [
    {
     "data": {
      "text/plain": "                                                                                              RF   \nexp_name                               model_name dataset_name data_id                             \nv4000_01_baseline_vus_roc_0.001_random ae         Daphnet      S02R01E0.test.csv@6.out  0.130493  \\\n\n                                                                                          VUS_PR   \nexp_name                               model_name dataset_name data_id                             \nv4000_01_baseline_vus_roc_0.001_random ae         Daphnet      S02R01E0.test.csv@6.out  0.718122  \\\n\n                                                                                         VUS_ROC   \nexp_name                               model_name dataset_name data_id                             \nv4000_01_baseline_vus_roc_0.001_random ae         Daphnet      S02R01E0.test.csv@6.out  0.754912  \\\n\n                                                                                        elapsed_train  \nexp_name                               model_name dataset_name data_id                                 \nv4000_01_baseline_vus_roc_0.001_random ae         Daphnet      S02R01E0.test.csv@6.out         115.79  ",
      "text/html": "<div>\n<style scoped>\n    .dataframe tbody tr th:only-of-type {\n        vertical-align: middle;\n    }\n\n    .dataframe tbody tr th {\n        vertical-align: top;\n    }\n\n    .dataframe thead th {\n        text-align: right;\n    }\n</style>\n<table border=\"1\" class=\"dataframe\">\n  <thead>\n    <tr style=\"text-align: right;\">\n      <th></th>\n      <th></th>\n      <th></th>\n      <th></th>\n      <th>RF</th>\n      <th>VUS_PR</th>\n      <th>VUS_ROC</th>\n      <th>elapsed_train</th>\n    </tr>\n    <tr>\n      <th>exp_name</th>\n      <th>model_name</th>\n      <th>dataset_name</th>\n      <th>data_id</th>\n      <th></th>\n      <th></th>\n      <th></th>\n      <th></th>\n    </tr>\n  </thead>\n  <tbody>\n    <tr>\n      <th>v4000_01_baseline_vus_roc_0.001_random</th>\n      <th>ae</th>\n      <th>Daphnet</th>\n      <th>S02R01E0.test.csv@6.out</th>\n      <td>0.130493</td>\n      <td>0.718122</td>\n      <td>0.754912</td>\n      <td>115.79</td>\n    </tr>\n  </tbody>\n</table>\n</div>"
     },
     "execution_count": 52,
     "metadata": {},
     "output_type": "execute_result"
    }
   ],
   "source": [
    "query_conditions = 'data_id == \"S02R01E0.test.csv@6.out\" and model_name ==\"ae\"'\n",
    "merge_data = merage_data.query(query_conditions)\n",
    "merge_data"
   ],
   "metadata": {
    "collapsed": false,
    "ExecuteTime": {
     "end_time": "2024-07-31T09:43:17.768750Z",
     "start_time": "2024-07-31T09:43:17.754443Z"
    }
   }
  },
  {
   "cell_type": "code",
   "execution_count": 53,
   "outputs": [],
   "source": [
    "# 验证数据是否正确\n",
    "varify_data = original_data.query(query_conditions)\n",
    "\n",
    "assert varify_data.shape[0] == 5\n",
    "\n",
    "assert varify_data[EK.VUS_ROC].mean() == merge_data[EK.VUS_ROC][0]\n",
    "assert varify_data[EK.VUS_ROC].mean() != merge_data[EK.VUS_PR][0]"
   ],
   "metadata": {
    "collapsed": false,
    "ExecuteTime": {
     "end_time": "2024-07-31T09:43:17.843745Z",
     "start_time": "2024-07-31T09:43:17.757678Z"
    }
   }
  },
  {
   "cell_type": "code",
   "execution_count": 54,
   "outputs": [
    {
     "data": {
      "text/plain": "                  RF    VUS_PR   VUS_ROC  elapsed_train\nmodel_name                                             \nae          0.210960  0.400926  0.692427       85960.63\ncnn         0.202316  0.356053  0.690075      101925.98\ndagmm       0.064937  0.420161  0.600462      266414.33\nhbos        0.213291  0.389166  0.675018        4746.79\niforest     0.176137  0.398684  0.709407       12665.18\nlof         0.281838  0.435429  0.733985      355260.43\nlstm-ad     0.185488  0.313718  0.649847      572176.82\nocsvm       0.274851  0.405661  0.696496      476576.52\nvae         0.195899  0.402835  0.696245      131349.35",
      "text/html": "<div>\n<style scoped>\n    .dataframe tbody tr th:only-of-type {\n        vertical-align: middle;\n    }\n\n    .dataframe tbody tr th {\n        vertical-align: top;\n    }\n\n    .dataframe thead th {\n        text-align: right;\n    }\n</style>\n<table border=\"1\" class=\"dataframe\">\n  <thead>\n    <tr style=\"text-align: right;\">\n      <th></th>\n      <th>RF</th>\n      <th>VUS_PR</th>\n      <th>VUS_ROC</th>\n      <th>elapsed_train</th>\n    </tr>\n    <tr>\n      <th>model_name</th>\n      <th></th>\n      <th></th>\n      <th></th>\n      <th></th>\n    </tr>\n  </thead>\n  <tbody>\n    <tr>\n      <th>ae</th>\n      <td>0.210960</td>\n      <td>0.400926</td>\n      <td>0.692427</td>\n      <td>85960.63</td>\n    </tr>\n    <tr>\n      <th>cnn</th>\n      <td>0.202316</td>\n      <td>0.356053</td>\n      <td>0.690075</td>\n      <td>101925.98</td>\n    </tr>\n    <tr>\n      <th>dagmm</th>\n      <td>0.064937</td>\n      <td>0.420161</td>\n      <td>0.600462</td>\n      <td>266414.33</td>\n    </tr>\n    <tr>\n      <th>hbos</th>\n      <td>0.213291</td>\n      <td>0.389166</td>\n      <td>0.675018</td>\n      <td>4746.79</td>\n    </tr>\n    <tr>\n      <th>iforest</th>\n      <td>0.176137</td>\n      <td>0.398684</td>\n      <td>0.709407</td>\n      <td>12665.18</td>\n    </tr>\n    <tr>\n      <th>lof</th>\n      <td>0.281838</td>\n      <td>0.435429</td>\n      <td>0.733985</td>\n      <td>355260.43</td>\n    </tr>\n    <tr>\n      <th>lstm-ad</th>\n      <td>0.185488</td>\n      <td>0.313718</td>\n      <td>0.649847</td>\n      <td>572176.82</td>\n    </tr>\n    <tr>\n      <th>ocsvm</th>\n      <td>0.274851</td>\n      <td>0.405661</td>\n      <td>0.696496</td>\n      <td>476576.52</td>\n    </tr>\n    <tr>\n      <th>vae</th>\n      <td>0.195899</td>\n      <td>0.402835</td>\n      <td>0.696245</td>\n      <td>131349.35</td>\n    </tr>\n  </tbody>\n</table>\n</div>"
     },
     "execution_count": 54,
     "metadata": {},
     "output_type": "execute_result"
    }
   ],
   "source": [
    "# merage_data: the merage data\n",
    "keys = [EK.VUS_ROC, EK.VUS_PR, EK.RF, EK.ELAPSED_TRAIN]\n",
    "out = merage_data.pivot_table(\n",
    "    index=EK.MODEL_NAME,\n",
    "    values=keys,\n",
    "    aggfunc={\n",
    "        EK.VUS_ROC: np.mean,\n",
    "        EK.VUS_PR: np.mean,\n",
    "        EK.RF: np.mean,\n",
    "        EK.ELAPSED_TRAIN: np.sum,\n",
    "    }\n",
    ")\n",
    "out"
   ],
   "metadata": {
    "collapsed": false,
    "ExecuteTime": {
     "end_time": "2024-07-31T09:43:17.953322Z",
     "start_time": "2024-07-31T09:43:17.768633Z"
    }
   }
  },
  {
   "cell_type": "code",
   "execution_count": 55,
   "outputs": [
    {
     "data": {
      "text/plain": "  model_name        RF    VUS_PR   VUS_ROC  elapsed_train  elapsed_train(hour)\n0         ae  0.210960  0.400926  0.692427       85960.63            23.877953\n1        cnn  0.202316  0.356053  0.690075      101925.98            28.312772\n2      dagmm  0.064937  0.420161  0.600462      266414.33            74.003981\n3       hbos  0.213291  0.389166  0.675018        4746.79             1.318553\n4    iforest  0.176137  0.398684  0.709407       12665.18             3.518106\n5        lof  0.281838  0.435429  0.733985      355260.43            98.683453\n6    lstm-ad  0.185488  0.313718  0.649847      572176.82           158.938006\n7      ocsvm  0.274851  0.405661  0.696496      476576.52           132.382367\n8        vae  0.195899  0.402835  0.696245      131349.35            36.485931",
      "text/html": "<div>\n<style scoped>\n    .dataframe tbody tr th:only-of-type {\n        vertical-align: middle;\n    }\n\n    .dataframe tbody tr th {\n        vertical-align: top;\n    }\n\n    .dataframe thead th {\n        text-align: right;\n    }\n</style>\n<table border=\"1\" class=\"dataframe\">\n  <thead>\n    <tr style=\"text-align: right;\">\n      <th></th>\n      <th>model_name</th>\n      <th>RF</th>\n      <th>VUS_PR</th>\n      <th>VUS_ROC</th>\n      <th>elapsed_train</th>\n      <th>elapsed_train(hour)</th>\n    </tr>\n  </thead>\n  <tbody>\n    <tr>\n      <th>0</th>\n      <td>ae</td>\n      <td>0.210960</td>\n      <td>0.400926</td>\n      <td>0.692427</td>\n      <td>85960.63</td>\n      <td>23.877953</td>\n    </tr>\n    <tr>\n      <th>1</th>\n      <td>cnn</td>\n      <td>0.202316</td>\n      <td>0.356053</td>\n      <td>0.690075</td>\n      <td>101925.98</td>\n      <td>28.312772</td>\n    </tr>\n    <tr>\n      <th>2</th>\n      <td>dagmm</td>\n      <td>0.064937</td>\n      <td>0.420161</td>\n      <td>0.600462</td>\n      <td>266414.33</td>\n      <td>74.003981</td>\n    </tr>\n    <tr>\n      <th>3</th>\n      <td>hbos</td>\n      <td>0.213291</td>\n      <td>0.389166</td>\n      <td>0.675018</td>\n      <td>4746.79</td>\n      <td>1.318553</td>\n    </tr>\n    <tr>\n      <th>4</th>\n      <td>iforest</td>\n      <td>0.176137</td>\n      <td>0.398684</td>\n      <td>0.709407</td>\n      <td>12665.18</td>\n      <td>3.518106</td>\n    </tr>\n    <tr>\n      <th>5</th>\n      <td>lof</td>\n      <td>0.281838</td>\n      <td>0.435429</td>\n      <td>0.733985</td>\n      <td>355260.43</td>\n      <td>98.683453</td>\n    </tr>\n    <tr>\n      <th>6</th>\n      <td>lstm-ad</td>\n      <td>0.185488</td>\n      <td>0.313718</td>\n      <td>0.649847</td>\n      <td>572176.82</td>\n      <td>158.938006</td>\n    </tr>\n    <tr>\n      <th>7</th>\n      <td>ocsvm</td>\n      <td>0.274851</td>\n      <td>0.405661</td>\n      <td>0.696496</td>\n      <td>476576.52</td>\n      <td>132.382367</td>\n    </tr>\n    <tr>\n      <th>8</th>\n      <td>vae</td>\n      <td>0.195899</td>\n      <td>0.402835</td>\n      <td>0.696245</td>\n      <td>131349.35</td>\n      <td>36.485931</td>\n    </tr>\n  </tbody>\n</table>\n</div>"
     },
     "execution_count": 55,
     "metadata": {},
     "output_type": "execute_result"
    }
   ],
   "source": [
    "out = out.reset_index()\n",
    "out[EK.ELAPSED_TRAIN + \"(hour)\"] = out[EK.ELAPSED_TRAIN] / 60 / 60\n",
    "out"
   ],
   "metadata": {
    "collapsed": false,
    "ExecuteTime": {
     "end_time": "2024-07-31T09:43:18.001530Z",
     "start_time": "2024-07-31T09:43:17.778277Z"
    }
   }
  },
  {
   "cell_type": "code",
   "execution_count": 56,
   "outputs": [
    {
     "data": {
      "text/plain": "  model_name     RF  VUS_PR  VUS_ROC  elapsed_train  elapsed_train(hour)\n6    lstm-ad  18.55   31.37    64.98      572176.82               158.94\n7      ocsvm  27.49   40.57    69.65      476576.52               132.38\n5        lof  28.18   43.54    73.40      355260.43                98.68\n2      dagmm   6.49   42.02    60.05      266414.33                74.00\n8        vae  19.59   40.28    69.62      131349.35                36.49\n1        cnn  20.23   35.61    69.01      101925.98                28.31\n0         ae  21.10   40.09    69.24       85960.63                23.88\n4    iforest  17.61   39.87    70.94       12665.18                 3.52\n3       hbos  21.33   38.92    67.50        4746.79                 1.32",
      "text/html": "<div>\n<style scoped>\n    .dataframe tbody tr th:only-of-type {\n        vertical-align: middle;\n    }\n\n    .dataframe tbody tr th {\n        vertical-align: top;\n    }\n\n    .dataframe thead th {\n        text-align: right;\n    }\n</style>\n<table border=\"1\" class=\"dataframe\">\n  <thead>\n    <tr style=\"text-align: right;\">\n      <th></th>\n      <th>model_name</th>\n      <th>RF</th>\n      <th>VUS_PR</th>\n      <th>VUS_ROC</th>\n      <th>elapsed_train</th>\n      <th>elapsed_train(hour)</th>\n    </tr>\n  </thead>\n  <tbody>\n    <tr>\n      <th>6</th>\n      <td>lstm-ad</td>\n      <td>18.55</td>\n      <td>31.37</td>\n      <td>64.98</td>\n      <td>572176.82</td>\n      <td>158.94</td>\n    </tr>\n    <tr>\n      <th>7</th>\n      <td>ocsvm</td>\n      <td>27.49</td>\n      <td>40.57</td>\n      <td>69.65</td>\n      <td>476576.52</td>\n      <td>132.38</td>\n    </tr>\n    <tr>\n      <th>5</th>\n      <td>lof</td>\n      <td>28.18</td>\n      <td>43.54</td>\n      <td>73.40</td>\n      <td>355260.43</td>\n      <td>98.68</td>\n    </tr>\n    <tr>\n      <th>2</th>\n      <td>dagmm</td>\n      <td>6.49</td>\n      <td>42.02</td>\n      <td>60.05</td>\n      <td>266414.33</td>\n      <td>74.00</td>\n    </tr>\n    <tr>\n      <th>8</th>\n      <td>vae</td>\n      <td>19.59</td>\n      <td>40.28</td>\n      <td>69.62</td>\n      <td>131349.35</td>\n      <td>36.49</td>\n    </tr>\n    <tr>\n      <th>1</th>\n      <td>cnn</td>\n      <td>20.23</td>\n      <td>35.61</td>\n      <td>69.01</td>\n      <td>101925.98</td>\n      <td>28.31</td>\n    </tr>\n    <tr>\n      <th>0</th>\n      <td>ae</td>\n      <td>21.10</td>\n      <td>40.09</td>\n      <td>69.24</td>\n      <td>85960.63</td>\n      <td>23.88</td>\n    </tr>\n    <tr>\n      <th>4</th>\n      <td>iforest</td>\n      <td>17.61</td>\n      <td>39.87</td>\n      <td>70.94</td>\n      <td>12665.18</td>\n      <td>3.52</td>\n    </tr>\n    <tr>\n      <th>3</th>\n      <td>hbos</td>\n      <td>21.33</td>\n      <td>38.92</td>\n      <td>67.50</td>\n      <td>4746.79</td>\n      <td>1.32</td>\n    </tr>\n  </tbody>\n</table>\n</div>"
     },
     "execution_count": 56,
     "metadata": {},
     "output_type": "execute_result"
    }
   ],
   "source": [
    "out_1 = out.copy()\n",
    "round_key = [EK.VUS_ROC, EK.VUS_PR, EK.RF]\n",
    "out_1.loc[:, round_key] = out_1.loc[:, round_key] * 100\n",
    "out_1 = out_1.sort_values(EK.ELAPSED_TRAIN, ascending=False)\n",
    "out_1 = out_1.round(2)\n",
    "out_1"
   ],
   "metadata": {
    "collapsed": false,
    "ExecuteTime": {
     "end_time": "2024-07-31T09:43:18.001754Z",
     "start_time": "2024-07-31T09:43:17.786324Z"
    }
   }
  },
  {
   "cell_type": "code",
   "execution_count": 57,
   "outputs": [
    {
     "data": {
      "text/plain": "  model_name     RF  VUS_PR  VUS_ROC  elapsed_train(hour)\n6    lstm-ad  18.55   31.37    64.98               158.94\n7      ocsvm  27.49   40.57    69.65               132.38\n5        lof  28.18   43.54    73.40                98.68\n2      dagmm   6.49   42.02    60.05                74.00\n8        vae  19.59   40.28    69.62                36.49\n1        cnn  20.23   35.61    69.01                28.31\n0         ae  21.10   40.09    69.24                23.88\n4    iforest  17.61   39.87    70.94                 3.52\n3       hbos  21.33   38.92    67.50                 1.32",
      "text/html": "<div>\n<style scoped>\n    .dataframe tbody tr th:only-of-type {\n        vertical-align: middle;\n    }\n\n    .dataframe tbody tr th {\n        vertical-align: top;\n    }\n\n    .dataframe thead th {\n        text-align: right;\n    }\n</style>\n<table border=\"1\" class=\"dataframe\">\n  <thead>\n    <tr style=\"text-align: right;\">\n      <th></th>\n      <th>model_name</th>\n      <th>RF</th>\n      <th>VUS_PR</th>\n      <th>VUS_ROC</th>\n      <th>elapsed_train(hour)</th>\n    </tr>\n  </thead>\n  <tbody>\n    <tr>\n      <th>6</th>\n      <td>lstm-ad</td>\n      <td>18.55</td>\n      <td>31.37</td>\n      <td>64.98</td>\n      <td>158.94</td>\n    </tr>\n    <tr>\n      <th>7</th>\n      <td>ocsvm</td>\n      <td>27.49</td>\n      <td>40.57</td>\n      <td>69.65</td>\n      <td>132.38</td>\n    </tr>\n    <tr>\n      <th>5</th>\n      <td>lof</td>\n      <td>28.18</td>\n      <td>43.54</td>\n      <td>73.40</td>\n      <td>98.68</td>\n    </tr>\n    <tr>\n      <th>2</th>\n      <td>dagmm</td>\n      <td>6.49</td>\n      <td>42.02</td>\n      <td>60.05</td>\n      <td>74.00</td>\n    </tr>\n    <tr>\n      <th>8</th>\n      <td>vae</td>\n      <td>19.59</td>\n      <td>40.28</td>\n      <td>69.62</td>\n      <td>36.49</td>\n    </tr>\n    <tr>\n      <th>1</th>\n      <td>cnn</td>\n      <td>20.23</td>\n      <td>35.61</td>\n      <td>69.01</td>\n      <td>28.31</td>\n    </tr>\n    <tr>\n      <th>0</th>\n      <td>ae</td>\n      <td>21.10</td>\n      <td>40.09</td>\n      <td>69.24</td>\n      <td>23.88</td>\n    </tr>\n    <tr>\n      <th>4</th>\n      <td>iforest</td>\n      <td>17.61</td>\n      <td>39.87</td>\n      <td>70.94</td>\n      <td>3.52</td>\n    </tr>\n    <tr>\n      <th>3</th>\n      <td>hbos</td>\n      <td>21.33</td>\n      <td>38.92</td>\n      <td>67.50</td>\n      <td>1.32</td>\n    </tr>\n  </tbody>\n</table>\n</div>"
     },
     "execution_count": 57,
     "metadata": {},
     "output_type": "execute_result"
    }
   ],
   "source": [
    "out_1 = out_1.drop(EK.ELAPSED_TRAIN, axis=1)\n",
    "out_1"
   ],
   "metadata": {
    "collapsed": false,
    "ExecuteTime": {
     "end_time": "2024-07-31T09:43:18.028009Z",
     "start_time": "2024-07-31T09:43:17.796796Z"
    }
   }
  },
  {
   "cell_type": "code",
   "execution_count": 58,
   "outputs": [],
   "source": [
    "PDUtil.save_to_latex(out_1, file_path=\"original_model.tex\", caption=\"\", label=\"\")"
   ],
   "metadata": {
    "collapsed": false,
    "ExecuteTime": {
     "end_time": "2024-07-31T09:43:18.028174Z",
     "start_time": "2024-07-31T09:43:17.798404Z"
    }
   }
  },
  {
   "cell_type": "code",
   "execution_count": 58,
   "outputs": [],
   "source": [],
   "metadata": {
    "collapsed": false,
    "ExecuteTime": {
     "end_time": "2024-07-31T09:43:18.028251Z",
     "start_time": "2024-07-31T09:43:17.801571Z"
    }
   }
  }
 ],
 "metadata": {
  "kernelspec": {
   "display_name": "Python 3",
   "language": "python",
   "name": "python3"
  },
  "language_info": {
   "codemirror_mode": {
    "name": "ipython",
    "version": 2
   },
   "file_extension": ".py",
   "mimetype": "text/x-python",
   "name": "python",
   "nbconvert_exporter": "python",
   "pygments_lexer": "ipython2",
   "version": "2.7.6"
  }
 },
 "nbformat": 4,
 "nbformat_minor": 0
}
